{
 "cells": [
  {
   "cell_type": "code",
   "execution_count": 319,
   "metadata": {},
   "outputs": [],
   "source": [
    "import pandas as pd\n",
    "import xlsxwriter as xls\n",
    "import numpy as np\n",
    "from scipy.stats import kurtosis, shapiro, skew, kstest, kurtosistest, skewtest, iqr, stats\n",
    "import pyexcel as p\n",
    "\n",
    "#import matplotlib.pyplot as plt\n",
    "#%matplotlib inline"
   ]
  },
  {
   "cell_type": "code",
   "execution_count": 320,
   "metadata": {},
   "outputs": [],
   "source": [
    "dfs = {\n",
    "    'CadariEngenharia': pd.read_csv('../DadosFonte/cadariengenhariaearquiteturalt0.csv', sep=',', encoding='ISO-8859-1'),\n",
    "    'CombogoComunicacao': pd.read_csv('../DadosFonte/combogocomunicacao.csv', sep=',', encoding='ISO-8859-1'),\n",
    "    'DegrauArquitetos': pd.read_csv('../DadosFonte/degrauarquitetosassociados.csv', sep=',', encoding='ISO-8859-1'),\n",
    "    'EduardoPepato': pd.read_csv('../DadosFonte/eduardopepato.csv', sep=',', encoding='ISO-8859-1'),\n",
    "    'Espeo': pd.read_csv('../DadosFonte/espeo.csv', sep=',', encoding='ISO-8859-1'),\n",
    "    'Fast': pd.read_csv('../DadosFonte/fast.csv', sep=',', encoding='ISO-8859-1'),\n",
    "    'Fisiotrauma': pd.read_csv('../DadosFonte/fisiotrauma.csv', sep=',', encoding='ISO-8859-1'),\n",
    "    'gestaoNaPratica': pd.read_csv('../DadosFonte/gestaonapratica.csv', sep=',', encoding='ISO-8859-1'),\n",
    "    'GrupoDamiam': pd.read_csv('../DadosFonte/grupodamiam.csv', sep=',', encoding='ISO-8859-1'),\n",
    "    'InovaEmpresaJunior': pd.read_csv('../DadosFonte/inovaempresajunior.csv', sep=',', encoding='ISO-8859-1'),\n",
    "    'LuzEmSolucoes': pd.read_csv('../DadosFonte/luzemssolucoesempresariais.csv', sep=',', encoding='ISO-8859-1'),\n",
    "    'MarteInovacaoCultural': pd.read_csv('../DadosFonte/marteinovacaocultural.csv', sep=',', encoding='ISO-8859-1'),\n",
    "    'Mekatronik': pd.read_csv('../DadosFonte/mekatronik.csv', sep=',', encoding='ISO-8859-1'),\n",
    "    'NorthStarshipping': pd.read_csv('../DadosFonte/northstarshippingservices.csv', sep=',', encoding='ISO-8859-1'),\n",
    "    'primusconsultoriaempresarial': pd.read_csv('../DadosFonte/primusconsultoriaempresarial.csv', sep=',', encoding='ISO-8859-1'),\n",
    "    'signo': pd.read_csv('../DadosFonte/signo.csv', sep=',', encoding='ISO-8859-1'),\n",
    "    'spazioarchidesign': pd.read_csv('../DadosFonte/spazioarchidesign.csv', sep=',', encoding='ISO-8859-1'),\n",
    "    'tectobrastelecomltda': pd.read_csv('../DadosFonte/tectobrastelecomltda.csv', sep=',', encoding='ISO-8859-1'),\n",
    "    'tkcconsulting': pd.read_csv('../DadosFonte/tkcconsulting.csv', sep=',', encoding='ISO-8859-1'),\n",
    "    'wodesign0': pd.read_csv('../DadosFonte/wodesign0.csv', sep=',', encoding='ISO-8859-1')}"
   ]
  },
  {
   "cell_type": "markdown",
   "metadata": {},
   "source": [
    "\n",
    "\n",
    "### Algoritmos de teste de normalização"
   ]
  },
  {
   "cell_type": "code",
   "execution_count": 321,
   "metadata": {},
   "outputs": [],
   "source": [
    "#todas as funçÕes que são nativas da biblioteca são com o inicio em minusculo, as minhas em maiusculo.\n",
    "\n",
    "def Kurtosis(df):\n",
    "    if kurtosis(df, fisher=True) > 0:\n",
    "        return 1\n",
    "    else:\n",
    "        return 0\n",
    "    \n",
    "def Shapiro(df):\n",
    "    # p-value\n",
    "    if (shapiro(df)[1]) > 0.05:\n",
    "        return 1\n",
    "    else:\n",
    "        return 0\n",
    "    \n",
    "def Skewness(df):\n",
    "    if (skew(df) >= -0.5) and (skew(df) <= 0.5):\n",
    "        return 1\n",
    "    else:\n",
    "        return 0\n",
    "    \n",
    "def Kolmogorov(df):\n",
    "    #print(kstest(df, 'norm'))\n",
    "    if kstest(df, 'norm')[1] > 0.05:\n",
    "        return 1\n",
    "    else:\n",
    "        return 0\n",
    "\n",
    "#funções apenas para o grupo 3   \n",
    "def KurtosisTest(df):\n",
    "    if kurtosistest(df)[1] > 0.05:\n",
    "        return 1\n",
    "    else:\n",
    "        return 0\n",
    "\n",
    "def SkewTest(df):\n",
    "    if skewtest(df)[1] > 0.05:\n",
    "        return 1\n",
    "    else:       \n",
    "        return 0"
   ]
  },
  {
   "cell_type": "markdown",
   "metadata": {},
   "source": [
    "### Manipulando planilhas"
   ]
  },
  {
   "cell_type": "code",
   "execution_count": 322,
   "metadata": {},
   "outputs": [],
   "source": [
    "worksheet = xls.Workbook('../AnaliseExploratoria/PlanilhaResultado.xlsx')\n",
    "\n",
    "aba_grupo1 = worksheet.add_worksheet('Grupo 1')\n",
    "aba_grupo2 = worksheet.add_worksheet('Grupo 2')\n",
    "aba_grupo3 = worksheet.add_worksheet('Grupo 3')"
   ]
  },
  {
   "cell_type": "code",
   "execution_count": 323,
   "metadata": {},
   "outputs": [],
   "source": [
    "def inserir_cabecalho(aba, titulo):\n",
    "    bold = worksheet.add_format({'bold': 1})\n",
    "    aba.write('A1', titulo, bold)\n",
    "    aba.write('B1', 'Quantidade de lançamentos', bold)\n",
    "    aba.write('C1', 'Valor Kurtosis', bold)\n",
    "    aba.write('D1', 'P-value Kurtosis', bold)\n",
    "    aba.write('E1', 'Kurtosis', bold)\n",
    "    aba.write('F1', 'Valor Shapiro', bold)\n",
    "    aba.write('G1', 'P-value Shapiro', bold)\n",
    "    aba.write('H1', 'Shapiro', bold)\n",
    "    aba.write('I1', 'Valor Skewness', bold)\n",
    "    aba.write('J1', 'P-value Skewness', bold)\n",
    "    aba.write('K1', 'Skewness', bold)\n",
    "    aba.write('L1', 'Valor Kolmogorov', bold)\n",
    "    aba.write('M1', 'P-value Kolmogorov', bold)\n",
    "    aba.write('N1', 'Kolmogorov', bold)\n",
    "    aba.write('O1', 'Todos V', bold)\n",
    "    aba.write('P1', 'Todos F', bold)\n",
    "    aba.write('Q1', 'Apenas Kurtosis V', bold)\n",
    "    aba.write('R1', 'Apenas Shapiro V', bold)\n",
    "    aba.write('S1', 'Apenas Skewness V', bold)\n",
    "    aba.write('T1', 'Apenas Kolmogorov V', bold)\n",
    "    aba.write('U1', 'Kurtosis e Shapiro V', bold)\n",
    "    aba.write('V1', 'Kurtosis e Skewness V', bold)\n",
    "    aba.write('W1', 'Shapiro e Skewness V', bold)\n",
    "    aba.write('X1', 'Kurtosis e Kolmogorov V', bold)\n",
    "    aba.write('Y1', 'Skewness e Kolmogorov V', bold)\n",
    "    aba.write('Z1', 'Shapiro e Kolmogorov V', bold)\n",
    "    aba.write('AA1', 'Valor Máximo', bold)\n",
    "    aba.write('AB1', 'Média', bold)\n",
    "    aba.write('AC1', 'Desvio padrão', bold)\n",
    "    aba.write('AD1', 'Alpha', bold)\n",
    "    aba.write('AE1', 'Limite Gama', bold)\n",
    "    aba.write('AF1', 'Normal | Empate', bold)\n",
    "    aba.write('AG1', 'Distância interquartil', bold)\n",
    "    aba.write('AH1', 'Limite Beta', bold)\n",
    "\n",
    "inserir_cabecalho(aba_grupo1, \"Lançamentos de todas as empresas de 6 a 10\")\n",
    "inserir_cabecalho(aba_grupo2, \"Lançamentos de todas as empresas de 11 a 20\")\n",
    "inserir_cabecalho(aba_grupo3, \"Lançamentos de todas as empresas acima de 21\")"
   ]
  },
  {
   "cell_type": "code",
   "execution_count": 324,
   "metadata": {},
   "outputs": [],
   "source": [
    "def tabela_verdade(aba_grupo, num_linhas, KurtosisVar, ShapiroVar, SkewnessVar, KolmogorovVar):\n",
    "    #todos verdadeiros\n",
    "    if (KurtosisVar == 1 and ShapiroVar == 1 and SkewnessVar == 1 and KolmogorovVar == 1) :\n",
    "        aba_grupo.write('O' + str(num_linhas), 1)\n",
    "    else:  \n",
    "        aba_grupo.write('O' + str(num_linhas), 0)\n",
    "\n",
    "    #todos falsos\n",
    "    if (KurtosisVar == 0 and ShapiroVar == 0 and SkewnessVar == 0 and KolmogorovVar == 0) :\n",
    "        aba_grupo.write('P' + str(num_linhas), 1)\n",
    "    else:  \n",
    "        aba_grupo.write('P' + str(num_linhas), 0)\n",
    "\n",
    "    #Apenas Kurtosis Verdadeiro\n",
    "    if (KurtosisVar == 1 and ShapiroVar == 0 and SkewnessVar == 0) :\n",
    "        aba_grupo.write('Q' + str(num_linhas), 1)\n",
    "    else:  \n",
    "        aba_grupo.write('Q' + str(num_linhas), 0)\n",
    "\n",
    "    #Apenas Shapiro Verdadeiro\n",
    "    if (KurtosisVar == 0 and ShapiroVar == 1 and SkewnessVar == 0) :\n",
    "        aba_grupo.write('R' + str(num_linhas), 1)\n",
    "    else:  \n",
    "        aba_grupo.write('R' + str(num_linhas), 0)\n",
    "\n",
    "    #Apenas Skewness Verdadeiro\n",
    "    if (KurtosisVar == 0 and ShapiroVar == 0 and SkewnessVar == 1) :\n",
    "        aba_grupo.write('S' + str(num_linhas), 1)\n",
    "    else:  \n",
    "        aba_grupo.write('S' + str(num_linhas), 0)\n",
    "    \n",
    "    #Apenas Kolmogorov Verdadeiro\n",
    "    if (KurtosisVar == 0 and ShapiroVar == 0 and SkewnessVar == 0 and KolmogorovVar == 1):\n",
    "        aba_grupo.write('T' + str(num_linhas), 1)\n",
    "    else:\n",
    "        aba_grupo.write('T' + str(num_linhas), 0)\n",
    "        \n",
    "    #Apenas Kurtosis e Shapiro Verdadeiro\n",
    "    if (KurtosisVar == 1 and ShapiroVar == 1 and SkewnessVar == 0) :\n",
    "        aba_grupo.write('U' + str(num_linhas), 1)\n",
    "    else:  \n",
    "        aba_grupo.write('U' + str(num_linhas), 0)\n",
    "\n",
    "    #Apenas Kurtosis e Skewness Verdadeiro\n",
    "    if (KurtosisVar == 1 and ShapiroVar == 0 and SkewnessVar == 1) :\n",
    "        aba_grupo.write('V' + str(num_linhas), 1)\n",
    "    else:  \n",
    "        aba_grupo.write('V' + str(num_linhas), 0)\n",
    "\n",
    "    #Apenas shapiro e Skewness Verdadeiro\n",
    "    if (KurtosisVar == 0 and ShapiroVar == 1 and SkewnessVar == 1) :\n",
    "        aba_grupo.write('W' + str(num_linhas), 1)\n",
    "    else:  \n",
    "        aba_grupo.write('W' + str(num_linhas), 0)\n",
    "        \n",
    "    #Apenas Kurtosis e Kolmogorov Verdadeiro\n",
    "    if (KurtosisVar == 1 and ShapiroVar == 0 and SkewnessVar == 0 and KolmogorovVar == 1) :\n",
    "        aba_grupo.write('X' + str(num_linhas), 1)\n",
    "    else:  \n",
    "        aba_grupo.write('X' + str(num_linhas), 0)\n",
    "    \n",
    "    #Apenas Skewness e Kolmogorov Verdadeiro\n",
    "    if (KurtosisVar == 0 and ShapiroVar == 0 and SkewnessVar == 1 and KolmogorovVar == 1) :\n",
    "        aba_grupo.write('Y' + str(num_linhas), 1)\n",
    "    else:  \n",
    "        aba_grupo.write('Y' + str(num_linhas), 0)\n",
    "        \n",
    "    #Apenas Shapiro e Kolmogorov Verdadeiro\n",
    "    if (KurtosisVar == 0 and ShapiroVar == 1 and SkewnessVar == 0 and KolmogorovVar == 1) :\n",
    "        aba_grupo.write('Z' + str(num_linhas), 1)\n",
    "    else:  \n",
    "        aba_grupo.write('Z' + str(num_linhas), 0)\n",
    "    "
   ]
  },
  {
   "cell_type": "code",
   "execution_count": 325,
   "metadata": {},
   "outputs": [],
   "source": [
    "def normal_empate(aba_grupo, num_linhas, array_testes):\n",
    "    count = 0\n",
    "    \n",
    "    for teste in array_testes:\n",
    "        if teste == 1:\n",
    "            count += 1\n",
    "    \n",
    "    if count >= 3: \n",
    "        aba_grupo.write('AF' + str(num_linhas), 'Normal')\n",
    "    elif count == 2:\n",
    "        aba_grupo.write('AF' + str(num_linhas), 'Empate')\n",
    "    else:\n",
    "        aba_grupo.write('AF' + str(num_linhas), 'Não atende')"
   ]
  },
  {
   "cell_type": "code",
   "execution_count": 326,
   "metadata": {},
   "outputs": [],
   "source": [
    "def set_values(values, aba_grupo, num_linhas_1, num_col_1):\n",
    "    for value in values:\n",
    "        aba_grupo.write(num_linhas_1, num_col_1, str(value))\n",
    "        num_col_1 += 1"
   ]
  },
  {
   "cell_type": "code",
   "execution_count": 327,
   "metadata": {},
   "outputs": [],
   "source": [
    "def funcao(aba, num_linhas, num_col, df, categoria):\n",
    "    KurtosisVar = Kurtosis(df.Value)\n",
    "    ShapiroVar = Shapiro(df.Value)\n",
    "    SkewnessVar = Skewness(df.Value)\n",
    "    KolmogorovVar = Kolmogorov(df.Value)\n",
    "\n",
    "    aba.write('A' + str(num_linhas), categoria + ' - ' + key)\n",
    "    aba.write('B' + str(num_linhas), len(df))\n",
    "\n",
    "    #valor Kurtosis\n",
    "    aba.write('C' + str(num_linhas), kurtosis(df.Value))\n",
    "    aba.write('D' + str(num_linhas), ' - ')\n",
    "    aba.write('E' + str(num_linhas), KurtosisVar)\n",
    "\n",
    "    #valor shapiro\n",
    "    aba.write('F' + str(num_linhas), shapiro((df.Value))[0])\n",
    "    #p-value shapiro\n",
    "    aba.write('G' + str(num_linhas), shapiro((df.Value))[1])\n",
    "    aba.write('H' + str(num_linhas), ShapiroVar)\n",
    "\n",
    "    #valor skewness\n",
    "    aba.write('I' + str(num_linhas), skew(df.Value))\n",
    "    aba.write('J' + str(num_linhas), ' - ')\n",
    "    aba.write('K' + str(num_linhas), SkewnessVar)\n",
    "\n",
    "    #valor Kolmogorov\n",
    "    aba.write('L' + str(num_linhas), kstest((df.Value), 'norm')[0])\n",
    "    #p-valor Kolmogorov\n",
    "    aba.write('M' + str(num_linhas), kstest((df.Value), 'norm')[1])\n",
    "    aba.write('N' + str(num_linhas), KolmogorovVar)\n",
    "\n",
    "    aba.write('AA' + str(num_linhas), (df.Value).max())\n",
    "\n",
    "    #média\n",
    "    aba.write('AB' + str(num_linhas), (df.Value).mean())\n",
    "    #desvio padrão\n",
    "    aba.write('AC' + str(num_linhas), (df.Value).std())\n",
    "\n",
    "    #Alpha \n",
    "    aba.write('AD' + str(num_linhas),((((df.Value).max()) - ((df.Value).min()))/((df.Value).mean())))\n",
    "\n",
    "    #LIMIT_GAMA=3DESVIO_PAD + MEDIA\n",
    "    aba.write('AE' + str(num_linhas), (3*((df.Value).std())+((df.Value).mean())))\n",
    "\n",
    "    #Distância interquartil\n",
    "    aba.write('AG' + str(num_linhas), iqr(df.Value))\n",
    "\n",
    "    #Limite_beta = Q3 + 2(dist_interquartil)\n",
    "    aba.write('AH' + str(num_linhas), ((stats.scoreatpercentile((df.Value),75)) + 2*(iqr(df.Value))))\n",
    "\n",
    "    #Pegar Value e mostrar horizontalmente\n",
    "    #inicia na linha 0 coluna 35\n",
    "    set_values(df.Value, aba, num_linhas - 1, num_col)\n",
    "\n",
    "\n",
    "    tabela_verdade(aba, num_linhas, KurtosisVar, ShapiroVar, SkewnessVar, KolmogorovVar)    \n",
    "    normal_empate(aba, num_linhas, [KurtosisVar, ShapiroVar, SkewnessVar, KolmogorovVar])\n",
    "\n",
    "    num_linhas += 1"
   ]
  },
  {
   "cell_type": "code",
   "execution_count": 328,
   "metadata": {},
   "outputs": [
    {
     "name": "stderr",
     "output_type": "stream",
     "text": [
      "/Users/raissa.costa.brizeno/anaconda3/lib/python3.6/site-packages/scipy/stats/morestats.py:1307: UserWarning: Input data for shapiro has range zero. The results may not be accurate.\n",
      "  warnings.warn(\"Input data for shapiro has range zero. The results \"\n"
     ]
    }
   ],
   "source": [
    "num_col = 35\n",
    "num_linhas_1 = 2\n",
    "num_linhas_2 = 2\n",
    "num_linhas_3 = 2\n",
    "\n",
    "for key, df in dfs.items():\n",
    "    for categoria in df.Categoria.unique():\n",
    "        if((len(df[df.Categoria == categoria]) >= 6) and (len(df[df.Categoria == categoria]) <= 10)):\n",
    "            #funcao(aba_grupo1, num_linhas_1, num_col, df[df.Categoria == categoria], categoria)\n",
    "            KurtosisVar = Kurtosis(df[df.Categoria == categoria].Value)\n",
    "            ShapiroVar = Shapiro(df[df.Categoria == categoria].Value)\n",
    "            SkewnessVar = Skewness(df[df.Categoria == categoria].Value)\n",
    "            KolmogorovVar = Kolmogorov(df[df.Categoria == categoria].Value)\n",
    "            \n",
    "            aba_grupo1.write('A' + str(num_linhas_1), categoria + ' - ' + key)\n",
    "            aba_grupo1.write('B' + str(num_linhas_1), len(df[df.Categoria == categoria]))\n",
    "                     \n",
    "            #valor Kurtosis\n",
    "            aba_grupo1.write('C' + str(num_linhas_1), kurtosis(df[df.Categoria == categoria].Value))\n",
    "            aba_grupo1.write('D' + str(num_linhas_1), ' - ')\n",
    "            aba_grupo1.write('E' + str(num_linhas_1), KurtosisVar)\n",
    "            \n",
    "            #valor shapiro\n",
    "            aba_grupo1.write('F' + str(num_linhas_1), shapiro((df[df.Categoria == categoria].Value))[0])\n",
    "            #p-value shapiro\n",
    "            aba_grupo1.write('G' + str(num_linhas_1), shapiro((df[df.Categoria == categoria].Value))[1])\n",
    "            aba_grupo1.write('H' + str(num_linhas_1), ShapiroVar)\n",
    "            \n",
    "            #valor skewness\n",
    "            aba_grupo1.write('I' + str(num_linhas_1), skew(df[df.Categoria == categoria].Value))\n",
    "            aba_grupo1.write('J' + str(num_linhas_1), ' - ')\n",
    "            aba_grupo1.write('K' + str(num_linhas_1), SkewnessVar)\n",
    "            \n",
    "            #valor Kolmogorov\n",
    "            aba_grupo1.write('L' + str(num_linhas_1), kstest((df[df.Categoria == categoria].Value), 'norm')[0])\n",
    "            #p-valor Kolmogorov\n",
    "            aba_grupo1.write('M' + str(num_linhas_1), kstest((df[df.Categoria == categoria].Value), 'norm')[1])\n",
    "            aba_grupo1.write('N' + str(num_linhas_1), KolmogorovVar)\n",
    "            \n",
    "            aba_grupo1.write('AA' + str(num_linhas_1), (df[df.Categoria == categoria].Value).max())\n",
    "           \n",
    "            #média\n",
    "            aba_grupo1.write('AB' + str(num_linhas_1), (df[df.Categoria == categoria].Value).mean())\n",
    "            #desvio padrão\n",
    "            aba_grupo1.write('AC' + str(num_linhas_1), (df[df.Categoria == categoria].Value).std())\n",
    "          \n",
    "            #Alpha \n",
    "            aba_grupo1.write('AD' + str(num_linhas_1),((((df[df.Categoria == categoria].Value).max()) - ((df[df.Categoria == categoria].Value).min()))/((df[df.Categoria == categoria].Value).mean())))\n",
    "\n",
    "            #LIMIT_GAMA=3DESVIO_PAD + MEDIA\n",
    "            aba_grupo1.write('AE' + str(num_linhas_1), (3*((df[df.Categoria == categoria].Value).std())+((df[df.Categoria == categoria].Value).mean())))\n",
    "            \n",
    "            #Distância interquartil\n",
    "            aba_grupo1.write('AG' + str(num_linhas_1), iqr(df[df.Categoria == categoria].Value))\n",
    "            \n",
    "            #Limite_beta = Q3 + 2(dist_interquartil)\n",
    "            aba_grupo1.write('AH' + str(num_linhas_1), ((stats.scoreatpercentile((df[df.Categoria == categoria].Value),75)) + 2*(iqr(df[df.Categoria == categoria].Value))))\n",
    "            \n",
    "            #Pegar Value e mostrar horizontalmente\n",
    "            #inicia na linha 0 coluna 35\n",
    "            set_values(df[df.Categoria == categoria].Value, aba_grupo1, num_linhas_1 - 1, num_col)\n",
    "            \n",
    "            tabela_verdade(aba_grupo1, num_linhas_1, KurtosisVar, ShapiroVar, SkewnessVar, KolmogorovVar)    \n",
    "            normal_empate(aba_grupo1, num_linhas_1, [KurtosisVar, ShapiroVar, SkewnessVar, KolmogorovVar])\n",
    "            \n",
    "            num_linhas_1 += 1\n",
    "            \n",
    "        elif((len(df[df.Categoria == categoria]) >= 11) and (len(df[df.Categoria == categoria]) <= 20)):\n",
    "            \n",
    "            KurtosisVar = Kurtosis(df[df.Categoria == categoria].Value)\n",
    "            ShapiroVar = Shapiro(df[df.Categoria == categoria].Value)\n",
    "            SkewnessVar = Skewness(df[df.Categoria == categoria].Value)\n",
    "            KolmogorovVar = Kolmogorov(df[df.Categoria == categoria].Value)\n",
    "            \n",
    "            aba_grupo2.write('A' + str(num_linhas_2), categoria + ' - ' + key)\n",
    "            aba_grupo2.write('B' + str(num_linhas_2), len(df[df.Categoria == categoria]))\n",
    "            \n",
    "            #valor Kurtosis\n",
    "            aba_grupo2.write('C' + str(num_linhas_2), kurtosis(df[df.Categoria == categoria].Value))\n",
    "            aba_grupo2.write('D' + str(num_linhas_2), ' - ')\n",
    "            aba_grupo2.write('E' + str(num_linhas_2), KurtosisVar)\n",
    "            \n",
    "            #valor shapiro\n",
    "            aba_grupo2.write('F' + str(num_linhas_2), shapiro((df[df.Categoria == categoria].Value))[0])\n",
    "            #p-value shapiro\n",
    "            aba_grupo2.write('G' + str(num_linhas_2), shapiro((df[df.Categoria == categoria].Value))[1])\n",
    "            aba_grupo2.write('H' + str(num_linhas_2), ShapiroVar)\n",
    "            \n",
    "            #valor skewness\n",
    "            aba_grupo2.write('I' + str(num_linhas_2), skew(df[df.Categoria == categoria].Value))\n",
    "            aba_grupo2.write('J' + str(num_linhas_2), ' - ')\n",
    "            aba_grupo2.write('K' + str(num_linhas_2), SkewnessVar)\n",
    "            \n",
    "            #valor Kolmogorov\n",
    "            aba_grupo2.write('L' + str(num_linhas_2), kstest((df[df.Categoria == categoria].Value), 'norm')[0])\n",
    "            #p-valor Kolmogorov\n",
    "            aba_grupo2.write('M' + str(num_linhas_2), kstest((df[df.Categoria == categoria].Value), 'norm')[1])\n",
    "            aba_grupo2.write('N' + str(num_linhas_2), KolmogorovVar)\n",
    "            \n",
    "            aba_grupo2.write('AA' + str(num_linhas_2), (df[df.Categoria == categoria].Value).max())\n",
    "           \n",
    "            #media\n",
    "            aba_grupo2.write('AB' + str(num_linhas_2), (df[df.Categoria == categoria].Value).mean())\n",
    "            #desvio padrão\n",
    "            aba_grupo2.write('AC' + str(num_linhas_2), (df[df.Categoria == categoria].Value).std())\n",
    "            \n",
    "            #Alpha \n",
    "            aba_grupo2.write('AD' + str(num_linhas_2),((((df[df.Categoria == categoria].Value).max()) - ((df[df.Categoria == categoria].Value).min()))/((df[df.Categoria == categoria].Value).mean())))\n",
    "\n",
    "            #LIMIT_GAMA\n",
    "            aba_grupo2.write('AE' + str(num_linhas_2), (3*((df[df.Categoria == categoria].Value).std())+((df[df.Categoria == categoria].Value).mean())))\n",
    "            \n",
    "            #Distância interquartil\n",
    "            aba_grupo2.write('AG' + str(num_linhas_2), iqr(df[df.Categoria == categoria].Value))\n",
    "            \n",
    "            #Limite_beta = Q3 + 2(dist_interquartil)\n",
    "            aba_grupo2.write('AH' + str(num_linhas_2), ((stats.scoreatpercentile((df[df.Categoria == categoria].Value),75)) + 2*(iqr(df[df.Categoria == categoria].Value))))\n",
    "            \n",
    "            #Pegar Value e mostrar horizontalmente\n",
    "            #inicia na linha 0 coluna 35\n",
    "            set_values(df[df.Categoria == categoria].Value, aba_grupo2, num_linhas_2 - 1, num_col)\n",
    "            \n",
    "            tabela_verdade(aba_grupo2, num_linhas_2, KurtosisVar, ShapiroVar, SkewnessVar, KolmogorovVar)    \n",
    "            normal_empate(aba_grupo2, num_linhas_2, [KurtosisVar, ShapiroVar, SkewnessVar, KolmogorovVar])\n",
    "            \n",
    "            num_linhas_2 += 1\n",
    "            \n",
    "        elif((len(df[df.Categoria == categoria]) >= 21)):\n",
    "            \n",
    "            KurtosisVar = KurtosisTest(df[df.Categoria == categoria].Value)\n",
    "            ShapiroVar = Shapiro(df[df.Categoria == categoria].Value)\n",
    "            SkewnessVar = SkewTest(df[df.Categoria == categoria].Value)\n",
    "            KolmogorovVar = Kolmogorov(df[df.Categoria == categoria].Value)\n",
    "            \n",
    "            aba_grupo3.write('A' + str(num_linhas_3), categoria + ' - ' + key)\n",
    "            aba_grupo3.write('B' + str(num_linhas_3), len(df[df.Categoria == categoria]))\n",
    "            \n",
    "            #valor Kurtosis\n",
    "            aba_grupo3.write('C' + str(num_linhas_3), kurtosistest(df[df.Categoria == categoria].Value)[0])\n",
    "            aba_grupo3.write('D' + str(num_linhas_3), kurtosistest(df[df.Categoria == categoria].Value)[1])\n",
    "            aba_grupo3.write('E' + str(num_linhas_3), KurtosisVar)\n",
    "            \n",
    "            #valor shapiro\n",
    "            aba_grupo3.write('F' + str(num_linhas_3), shapiro((df[df.Categoria == categoria].Value))[0])\n",
    "            #p-value shapiro\n",
    "            aba_grupo3.write('G' + str(num_linhas_3), shapiro((df[df.Categoria == categoria].Value))[1])\n",
    "            aba_grupo3.write('H' + str(num_linhas_3), ShapiroVar)\n",
    "            \n",
    "            #valor skewness\n",
    "            aba_grupo3.write('I' + str(num_linhas_3), skewtest(df[df.Categoria == categoria].Value)[0])\n",
    "            aba_grupo3.write('J' + str(num_linhas_3), skewtest(df[df.Categoria == categoria].Value)[1])\n",
    "            aba_grupo3.write('K' + str(num_linhas_3), SkewnessVar)\n",
    "            \n",
    "            #valor Kolmogorov\n",
    "            aba_grupo3.write('L' + str(num_linhas_3), kstest((df[df.Categoria == categoria].Value), 'norm')[0])\n",
    "            #p-valor Kolmogorov\n",
    "            aba_grupo3.write('M' + str(num_linhas_3), kstest((df[df.Categoria == categoria].Value), 'norm')[1])\n",
    "            aba_grupo3.write('N' + str(num_linhas_3), KolmogorovVar)\n",
    "            \n",
    "            aba_grupo3.write('AA' + str(num_linhas_3), (df[df.Categoria == categoria].Value).max())\n",
    "            \n",
    "            #média\n",
    "            aba_grupo3.write('AB' + str(num_linhas_3), (df[df.Categoria == categoria].Value).mean())\n",
    "            #dedvio padrão\n",
    "            aba_grupo3.write('AC' + str(num_linhas_3), (df[df.Categoria == categoria].Value).std())\n",
    "            \n",
    "            #Alpha \n",
    "            aba_grupo3.write('AD' + str(num_linhas_3),((((df[df.Categoria == categoria].Value).max()) - ((df[df.Categoria == categoria].Value).min()))/((df[df.Categoria == categoria].Value).mean())))\n",
    "\n",
    "            #LIMIT_GAMA\n",
    "            aba_grupo3.write('AE' + str(num_linhas_3), (3*((df[df.Categoria == categoria].Value).std())+((df[df.Categoria == categoria].Value).mean())))\n",
    "            \n",
    "            #Distância interquartil\n",
    "            aba_grupo3.write('AG' + str(num_linhas_3), iqr(df[df.Categoria == categoria].Value))\n",
    "            \n",
    "            #Limite_beta = Q3 + 2(dist_interquartil)\n",
    "            aba_grupo3.write('AH' + str(num_linhas_3), ((stats.scoreatpercentile((df[df.Categoria == categoria].Value),75)) + 2*(iqr(df[df.Categoria == categoria].Value))))\n",
    "            \n",
    "            #Pegar Value e mostrar horizontalmente\n",
    "            #inicia na linha 0 coluna 35\n",
    "            set_values(df[df.Categoria == categoria].Value, aba_grupo3, num_linhas_3 - 1, num_col)\n",
    "            \n",
    "            tabela_verdade(aba_grupo3, num_linhas_3, KurtosisVar, ShapiroVar, SkewnessVar, KolmogorovVar)    \n",
    "            normal_empate(aba_grupo3, num_linhas_3, [KurtosisVar, ShapiroVar, SkewnessVar, KolmogorovVar])\n",
    "            \n",
    "            num_linhas_3 += 1"
   ]
  },
  {
   "cell_type": "code",
   "execution_count": 329,
   "metadata": {},
   "outputs": [],
   "source": [
    "worksheet.close()"
   ]
  },
  {
   "cell_type": "code",
   "execution_count": 196,
   "metadata": {},
   "outputs": [],
   "source": [
    "#plt.rcParams['figure.figsize'] = (10,20)\n",
    "#plt.scatter(dfs['Cadari'].Value, dfs['Cadari'].Categoria)\n",
    "#plt.figure(figsize=(0.8,0.8))"
   ]
  },
  {
   "cell_type": "markdown",
   "metadata": {},
   "source": [
    "### Testando os algoritmos de normalização:"
   ]
  },
  {
   "cell_type": "code",
   "execution_count": 21,
   "metadata": {},
   "outputs": [],
   "source": [
    "cadari = dfs['CadariEngenharia']"
   ]
  },
  {
   "cell_type": "code",
   "execution_count": 22,
   "metadata": {},
   "outputs": [
    {
     "data": {
      "text/plain": [
       "<bound method NDFrame.head of             Date    Value                                          Descricao  \\\n",
       "0     2017-11-30   154.00                                13º Salario Daniele   \n",
       "1     2017-11-30  1075.00                                13º Salario Gilmara   \n",
       "2     2017-11-30   685.00                                13º Salario Jeciane   \n",
       "3     2018-11-30  1075.00                                13º Salario Gilmara   \n",
       "4     2018-11-30   685.00                                13º Salario Jeciane   \n",
       "5     2018-11-30   922.50                                13º Salario Daniele   \n",
       "6     2018-12-20   978.25                                13º Salario Gilmara   \n",
       "7     2018-12-20   630.20                                13º Salario Jeciane   \n",
       "8     2018-12-20   839.48                                13º Salario Daniele   \n",
       "9     2017-12-20   576.00                                13º Salario Jeciane   \n",
       "10    2017-12-20   129.00                                13º Salario Daniele   \n",
       "11    2017-12-20   882.00                                13º Salario Gilmara   \n",
       "12    2017-12-18   142.68                  ART - (CA - 698) Obra 276 QD. 10    \n",
       "13    2017-11-08    89.75                            RRT - (CA-763) Valinhos   \n",
       "14    2017-11-03    60.00                                 Serviço de limpeza   \n",
       "15    2017-12-15    60.00                                 Serviço de limpeza   \n",
       "16    2017-01-02    37.50                                 Despesas bancárias   \n",
       "17    2017-02-02    37.50                                 Despesas bancárias   \n",
       "18    2017-03-02    37.50                                 Despesas bancárias   \n",
       "19    2017-04-02    37.50                                 Despesas bancárias   \n",
       "20    2017-05-02    37.50                                 Despesas bancárias   \n",
       "21    2017-06-02    37.50                                 Despesas bancárias   \n",
       "22    2017-07-02    37.50                                 Despesas bancárias   \n",
       "23    2017-08-02    37.50                                 Despesas bancárias   \n",
       "24    2017-09-02    37.50                                 Despesas bancárias   \n",
       "25    2017-11-10    60.00                                 Serviço de limpeza   \n",
       "26    2017-11-17    60.00                                 Serviço de limpeza   \n",
       "27    2017-04-15   198.93                                     Plano de saúde   \n",
       "28    2017-11-24    60.00                                 Serviço de limpeza   \n",
       "29    2017-11-16   481.31                                   Telefone celular   \n",
       "...          ...      ...                                                ...   \n",
       "1156  2017-10-10   275.90                           Telefone fixo e internet   \n",
       "1157  2017-10-10   392.79                           Telefone fixo e internet   \n",
       "1158  2017-07-03   246.55                                   Telefone celular   \n",
       "1159  2017-12-10   288.91                           Telefone fixo e internet   \n",
       "1160  2018-01-10   256.60                           Telefone fixo e internet   \n",
       "1161  2018-01-03   572.71                                   Telefone celular   \n",
       "1162  2018-02-09   256.60                           Telefone fixo e internet   \n",
       "1163  2018-02-03   539.37                                   Telefone celular   \n",
       "1164  2018-03-05   515.39                                   Telefone celular   \n",
       "1165  2018-03-12   263.53                           Telefone fixo e internet   \n",
       "1166  2018-04-03   364.70                                   Telefone celular   \n",
       "1167  2018-04-10   267.61                           Telefone fixo e internet   \n",
       "1168  2018-06-10   267.61                           Telefone fixo e internet   \n",
       "1169  2018-07-10   267.61                           Telefone fixo e internet   \n",
       "1170  2018-08-10   267.61                           Telefone fixo e internet   \n",
       "1171  2018-09-10   267.61                           Telefone fixo e internet   \n",
       "1172  2018-10-10   267.61                           Telefone fixo e internet   \n",
       "1173  2018-11-10   267.61                           Telefone fixo e internet   \n",
       "1174  2018-12-10   267.61                           Telefone fixo e internet   \n",
       "1175  2018-05-03   407.34                                   Telefone celular   \n",
       "1176  2018-05-15    41.18                           Telefone fixo e internet   \n",
       "1177  2018-05-10   266.41                           Telefone fixo e internet   \n",
       "1178  2017-05-05   217.32  Taxa de Fiscalização de Localização e Funciona...   \n",
       "1179  2017-05-05   528.50                                Serviços de motoboy   \n",
       "1180  2017-05-09    89.75                                                RRT   \n",
       "1181  2018-05-10   228.31  Taxa de Fiscalização de Localização e Funciona...   \n",
       "1182  2018-02-05    39.90                          Cotação de curso de Revit   \n",
       "1183  2018-02-19  1300.00                Treinamento de Revit para 4 pessoas   \n",
       "1184  2018-04-04   190.00                         Aula extra curso de Revit.   \n",
       "1185  2018-03-19  1300.00                Treinamento de Revit para 4 pessoas   \n",
       "\n",
       "                Categoria  \n",
       "0             13º Salário  \n",
       "1             13º Salário  \n",
       "2             13º Salário  \n",
       "3             13º Salário  \n",
       "4             13º Salário  \n",
       "5             13º Salário  \n",
       "6             13º Salário  \n",
       "7             13º Salário  \n",
       "8             13º Salário  \n",
       "9             13º Salário  \n",
       "10            13º Salário  \n",
       "11            13º Salário  \n",
       "12                   Água  \n",
       "13                   Água  \n",
       "14                   Água  \n",
       "15                   Água  \n",
       "16                   Água  \n",
       "17                   Água  \n",
       "18                   Água  \n",
       "19                   Água  \n",
       "20                   Água  \n",
       "21                   Água  \n",
       "22                   Água  \n",
       "23                   Água  \n",
       "24                   Água  \n",
       "25                   Água  \n",
       "26                   Água  \n",
       "27                   Água  \n",
       "28                   Água  \n",
       "29                   Água  \n",
       "...                   ...  \n",
       "1156  Telefone e internet  \n",
       "1157  Telefone e internet  \n",
       "1158  Telefone e internet  \n",
       "1159  Telefone e internet  \n",
       "1160  Telefone e internet  \n",
       "1161  Telefone e internet  \n",
       "1162  Telefone e internet  \n",
       "1163  Telefone e internet  \n",
       "1164  Telefone e internet  \n",
       "1165  Telefone e internet  \n",
       "1166  Telefone e internet  \n",
       "1167  Telefone e internet  \n",
       "1168  Telefone e internet  \n",
       "1169  Telefone e internet  \n",
       "1170  Telefone e internet  \n",
       "1171  Telefone e internet  \n",
       "1172  Telefone e internet  \n",
       "1173  Telefone e internet  \n",
       "1174  Telefone e internet  \n",
       "1175  Telefone e internet  \n",
       "1176  Telefone e internet  \n",
       "1177  Telefone e internet  \n",
       "1178                 TFLF  \n",
       "1179                 TFLF  \n",
       "1180                 TFLF  \n",
       "1181                 TFLF  \n",
       "1182          Treinamento  \n",
       "1183          Treinamento  \n",
       "1184          Treinamento  \n",
       "1185          Treinamento  \n",
       "\n",
       "[1186 rows x 4 columns]>"
      ]
     },
     "execution_count": 22,
     "metadata": {},
     "output_type": "execute_result"
    }
   ],
   "source": [
    "cadari.head"
   ]
  },
  {
   "cell_type": "code",
   "execution_count": 26,
   "metadata": {},
   "outputs": [],
   "source": [
    "cadari_cat_values = cadari[cadari.Categoria == 'Férias'].Value"
   ]
  },
  {
   "cell_type": "code",
   "execution_count": 30,
   "metadata": {},
   "outputs": [
    {
     "data": {
      "text/plain": [
       "1230.7525"
      ]
     },
     "execution_count": 30,
     "metadata": {},
     "output_type": "execute_result"
    }
   ],
   "source": [
    "stats.scoreatpercentile(cadari_cat_values, 75)"
   ]
  },
  {
   "cell_type": "code",
   "execution_count": 53,
   "metadata": {},
   "outputs": [
    {
     "name": "stdout",
     "output_type": "stream",
     "text": [
      "593     896.29\n",
      "594    1209.40\n",
      "595    1230.76\n",
      "596     784.24\n",
      "597    1056.16\n",
      "598    1230.75\n",
      "599     784.24\n",
      "600    1406.58\n",
      "Name: Value, dtype: float64\n"
     ]
    }
   ],
   "source": [
    "print (cadari_cat_values)"
   ]
  },
  {
   "cell_type": "code",
   "execution_count": 299,
   "metadata": {},
   "outputs": [],
   "source": [
    "import matplotlib.pyplot as plt"
   ]
  },
  {
   "cell_type": "code",
   "execution_count": 300,
   "metadata": {},
   "outputs": [
    {
     "data": {
      "text/plain": [
       "{'boxes': [<matplotlib.lines.Line2D at 0x1a17aca3c8>],\n",
       " 'caps': [<matplotlib.lines.Line2D at 0x1a17acadd8>,\n",
       "  <matplotlib.lines.Line2D at 0x1a1827b240>],\n",
       " 'fliers': [<matplotlib.lines.Line2D at 0x1a1827ba90>],\n",
       " 'means': [],\n",
       " 'medians': [<matplotlib.lines.Line2D at 0x1a1827b668>],\n",
       " 'whiskers': [<matplotlib.lines.Line2D at 0x1a17aca518>,\n",
       "  <matplotlib.lines.Line2D at 0x1a17aca9b0>]}"
      ]
     },
     "execution_count": 300,
     "metadata": {},
     "output_type": "execute_result"
    },
    {
     "data": {
      "image/png": "[encoded data removed]",
      "text/plain": [
       "<matplotlib.figure.Figure at 0x1a192caac8>"
      ]
     },
     "metadata": {},
     "output_type": "display_data"
    }
   ],
   "source": [
    "plt.boxplot(cadari_cat_values)"
   ]
  },
  {
   "cell_type": "code",
   "execution_count": 302,
   "metadata": {},
   "outputs": [
    {
     "data": {
      "text/plain": [
       "362.47500000000014"
      ]
     },
     "execution_count": 302,
     "metadata": {},
     "output_type": "execute_result"
    }
   ],
   "source": [
    "iqr(cadari_cat_values)"
   ]
  },
  {
   "cell_type": "code",
   "execution_count": 89,
   "metadata": {},
   "outputs": [
    {
     "data": {
      "text/plain": [
       "0"
      ]
     },
     "execution_count": 89,
     "metadata": {},
     "output_type": "execute_result"
    }
   ],
   "source": [
    "Kolmogorov(cadari_cat_values)"
   ]
  },
  {
   "cell_type": "code",
   "execution_count": 90,
   "metadata": {},
   "outputs": [
    {
     "data": {
      "text/plain": [
       "-1.381106585180966"
      ]
     },
     "execution_count": 90,
     "metadata": {},
     "output_type": "execute_result"
    }
   ],
   "source": [
    "# usando definição de Fisher\n",
    "kurtosis(cadari_cat_values)"
   ]
  },
  {
   "cell_type": "code",
   "execution_count": 91,
   "metadata": {},
   "outputs": [
    {
     "data": {
      "text/plain": [
       "1.618893414819034"
      ]
     },
     "execution_count": 91,
     "metadata": {},
     "output_type": "execute_result"
    }
   ],
   "source": [
    "# usando definição de Pearson\n",
    "kurtosis(cadari_cat_values, fisher=False)"
   ]
  },
  {
   "cell_type": "code",
   "execution_count": 92,
   "metadata": {},
   "outputs": [
    {
     "data": {
      "text/plain": [
       "(0.9056280255317688, 0.32430094480514526)"
      ]
     },
     "execution_count": 92,
     "metadata": {},
     "output_type": "execute_result"
    }
   ],
   "source": [
    "shapiro(cadari_cat_values)"
   ]
  },
  {
   "cell_type": "code",
   "execution_count": 93,
   "metadata": {},
   "outputs": [
    {
     "data": {
      "text/plain": [
       "0.9056280255317688"
      ]
     },
     "execution_count": 93,
     "metadata": {},
     "output_type": "execute_result"
    }
   ],
   "source": [
    "shapiro((cadari_cat_values))[0]"
   ]
  },
  {
   "cell_type": "code",
   "execution_count": 94,
   "metadata": {},
   "outputs": [
    {
     "data": {
      "text/plain": [
       "-0.09998618869157293"
      ]
     },
     "execution_count": 94,
     "metadata": {},
     "output_type": "execute_result"
    }
   ],
   "source": [
    "skew(cadari_cat_values)\n"
   ]
  },
  {
   "cell_type": "code",
   "execution_count": 95,
   "metadata": {},
   "outputs": [
    {
     "data": {
      "text/plain": [
       "-0.09998618869157293"
      ]
     },
     "execution_count": 95,
     "metadata": {},
     "output_type": "execute_result"
    }
   ],
   "source": [
    "skew(cadari_cat_values)"
   ]
  },
  {
   "cell_type": "code",
   "execution_count": 96,
   "metadata": {},
   "outputs": [
    {
     "data": {
      "text/plain": [
       "1"
      ]
     },
     "execution_count": 96,
     "metadata": {},
     "output_type": "execute_result"
    }
   ],
   "source": [
    "Skewness(cadari_cat_values) "
   ]
  },
  {
   "cell_type": "code",
   "execution_count": 97,
   "metadata": {},
   "outputs": [
    {
     "data": {
      "text/plain": [
       "KstestResult(statistic=1.0, pvalue=0.0)"
      ]
     },
     "execution_count": 97,
     "metadata": {},
     "output_type": "execute_result"
    }
   ],
   "source": [
    "kstest(cadari_cat_values, 'norm')"
   ]
  },
  {
   "cell_type": "code",
   "execution_count": 98,
   "metadata": {},
   "outputs": [
    {
     "name": "stderr",
     "output_type": "stream",
     "text": [
      "/Users/raissa.costa.brizeno/anaconda3/lib/python3.6/site-packages/scipy/stats/stats.py:1390: UserWarning: kurtosistest only valid for n>=20 ... continuing anyway, n=8\n",
      "  \"anyway, n=%i\" % int(n))\n"
     ]
    },
    {
     "data": {
      "text/plain": [
       "KurtosistestResult(statistic=-1.1325990669312296, pvalue=0.2573826606661188)"
      ]
     },
     "execution_count": 98,
     "metadata": {},
     "output_type": "execute_result"
    }
   ],
   "source": [
    "kurtosistest(cadari_cat_values)"
   ]
  },
  {
   "cell_type": "code",
   "execution_count": 99,
   "metadata": {},
   "outputs": [
    {
     "data": {
      "text/plain": [
       "SkewtestResult(statistic=-0.16849783891521933, pvalue=0.8661916436615131)"
      ]
     },
     "execution_count": 99,
     "metadata": {},
     "output_type": "execute_result"
    }
   ],
   "source": [
    "skewtest(cadari_cat_values)"
   ]
  },
  {
   "cell_type": "code",
   "execution_count": 104,
   "metadata": {},
   "outputs": [],
   "source": [
    "import matplotlib.pyplot as plt"
   ]
  },
  {
   "cell_type": "code",
   "execution_count": 211,
   "metadata": {},
   "outputs": [],
   "source": [
    "#plt.hist(cadari_cat_values)\n",
    "\n",
    "#print(kstest(cadari_cat_values, 'norm'))"
   ]
  },
  {
   "cell_type": "code",
   "execution_count": 106,
   "metadata": {},
   "outputs": [
    {
     "data": {
      "text/plain": [
       "2.2465508100784524"
      ]
     },
     "execution_count": 106,
     "metadata": {},
     "output_type": "execute_result"
    }
   ],
   "source": [
    "np.random.normal()"
   ]
  },
  {
   "cell_type": "code",
   "execution_count": 212,
   "metadata": {},
   "outputs": [
    {
     "data": {
      "text/plain": [
       "\"\\nnp.random.seed(987654321)\\nx = stats.norm.rvs(loc=0.2, size=100)\\nplt.hist(cadari_cat_values, histtype='stepfilled')\\nkstest(cadari_agua_values,'norm')\\n\""
      ]
     },
     "execution_count": 212,
     "metadata": {},
     "output_type": "execute_result"
    }
   ],
   "source": [
    "'''\n",
    "np.random.seed(987654321)\n",
    "x = stats.norm.rvs(loc=0.2, size=100)\n",
    "plt.hist(cadari_cat_values, histtype='stepfilled')\n",
    "kstest(cadari_agua_values,'norm')\n",
    "'''"
   ]
  },
  {
   "cell_type": "code",
   "execution_count": 110,
   "metadata": {},
   "outputs": [],
   "source": [
    "matrix = np.array([[1,2],[3,4]])"
   ]
  },
  {
   "cell_type": "code",
   "execution_count": 111,
   "metadata": {},
   "outputs": [
    {
     "data": {
      "text/plain": [
       "array([[1, 2],\n",
       "       [3, 4]])"
      ]
     },
     "execution_count": 111,
     "metadata": {},
     "output_type": "execute_result"
    }
   ],
   "source": [
    "matrix"
   ]
  },
  {
   "cell_type": "code",
   "execution_count": 118,
   "metadata": {},
   "outputs": [
    {
     "data": {
      "text/plain": [
       "array([[1, 3],\n",
       "       [2, 4]])"
      ]
     },
     "execution_count": 118,
     "metadata": {},
     "output_type": "execute_result"
    }
   ],
   "source": [
    "matrix.T"
   ]
  },
  {
   "cell_type": "code",
   "execution_count": 121,
   "metadata": {},
   "outputs": [
    {
     "name": "stderr",
     "output_type": "stream",
     "text": [
      "/Users/raissa.costa.brizeno/anaconda3/lib/python3.6/site-packages/scipy/stats/stats.py:1390: UserWarning: kurtosistest only valid for n>=20 ... continuing anyway, n=8\n",
      "  \"anyway, n=%i\" % int(n))\n"
     ]
    },
    {
     "data": {
      "text/plain": [
       "KurtosistestResult(statistic=-1.1325990669312296, pvalue=0.2573826606661188)"
      ]
     },
     "execution_count": 121,
     "metadata": {},
     "output_type": "execute_result"
    }
   ],
   "source": [
    "kurtosistest(cadari_cat_values, axis=0)"
   ]
  },
  {
   "cell_type": "code",
   "execution_count": 132,
   "metadata": {},
   "outputs": [
    {
     "data": {
      "text/plain": [
       "False"
      ]
     },
     "execution_count": 132,
     "metadata": {},
     "output_type": "execute_result"
    }
   ],
   "source": [
    "kstest(cadari_cat_values, 'norm')[1] > "
   ]
  }
 ],
 "metadata": {
  "kernelspec": {
   "display_name": "Python 3",
   "language": "python",
   "name": "python3"
  }
 },
 "nbformat": 4,
 "nbformat_minor": 2
}
