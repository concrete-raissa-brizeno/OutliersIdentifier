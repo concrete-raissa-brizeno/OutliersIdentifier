{
 "cells": [
  {
   "cell_type": "code",
   "execution_count": 1,
   "metadata": {},
   "outputs": [],
   "source": [
    "import pandas as pd\n",
    "import xlsxwriter as xls\n",
    "import numpy as np\n",
    "from scipy.stats import kurtosis, shapiro, skew, kstest\n",
    "#import matplotlib.pyplot as plt\n",
    "#%matplotlib inline"
   ]
  },
  {
   "cell_type": "code",
   "execution_count": 2,
   "metadata": {},
   "outputs": [],
   "source": [
    "dfs = {\n",
    "    'CadariEngenharia': pd.read_csv('../DadosFonte/cadariengenhariaearquiteturalt0.csv', sep=',', encoding='ISO-8859-1'),\n",
    "    'CombogoComunicacao': pd.read_csv('../DadosFonte/combogocomunicacao.csv', sep=',', encoding='ISO-8859-1'),\n",
    "    'DegrauArquitetos': pd.read_csv('../DadosFonte/degrauarquitetosassociados.csv', sep=',', encoding='ISO-8859-1'),\n",
    "    'EduardoPepato': pd.read_csv('../DadosFonte/eduardopepato.csv', sep=',', encoding='ISO-8859-1'),\n",
    "    'Espeo': pd.read_csv('../DadosFonte/espeo.csv', sep=',', encoding='ISO-8859-1'),\n",
    "    'Fast': pd.read_csv('../DadosFonte/fast.csv', sep=',', encoding='ISO-8859-1'),\n",
    "    'Fisiotrauma': pd.read_csv('../DadosFonte/fisiotrauma.csv', sep=',', encoding='ISO-8859-1'),\n",
    "    'gestaoNaPratica': pd.read_csv('../DadosFonte/gestaonapratica.csv', sep=',', encoding='ISO-8859-1'),\n",
    "    'GrupoDamiam': pd.read_csv('../DadosFonte/grupodamiam.csv', sep=',', encoding='ISO-8859-1'),\n",
    "    'InovaEmpresaJunior': pd.read_csv('../DadosFonte/inovaempresajunior.csv', sep=',', encoding='ISO-8859-1'),\n",
    "    'LuzEmSolucoes': pd.read_csv('../DadosFonte/luzemssolucoesempresariais.csv', sep=',', encoding='ISO-8859-1'),\n",
    "    'MarteInovacaoCultural': pd.read_csv('../DadosFonte/marteinovacaocultural.csv', sep=',', encoding='ISO-8859-1'),\n",
    "    'Mekatronik': pd.read_csv('../DadosFonte/mekatronik.csv', sep=',', encoding='ISO-8859-1'),\n",
    "    'NorthStarshipping': pd.read_csv('../DadosFonte/northstarshippingservices.csv', sep=',', encoding='ISO-8859-1'),\n",
    "    'primusconsultoriaempresarial': pd.read_csv('../DadosFonte/primusconsultoriaempresarial.csv', sep=',', encoding='ISO-8859-1'),\n",
    "    'signo': pd.read_csv('../DadosFonte/signo.csv', sep=',', encoding='ISO-8859-1'),\n",
    "    'spazioarchidesign': pd.read_csv('../DadosFonte/spazioarchidesign.csv', sep=',', encoding='ISO-8859-1'),\n",
    "    'tectobrastelecomltda': pd.read_csv('../DadosFonte/tectobrastelecomltda.csv', sep=',', encoding='ISO-8859-1'),\n",
    "    'tkcconsulting': pd.read_csv('../DadosFonte/tkcconsulting.csv', sep=',', encoding='ISO-8859-1'),\n",
    "    'wodesign0': pd.read_csv('../DadosFonte/wodesign0.csv', sep=',', encoding='ISO-8859-1')}"
   ]
  },
  {
   "cell_type": "code",
   "execution_count": 3,
   "metadata": {},
   "outputs": [],
   "source": [
    "#dfs['Cadari'].head()"
   ]
  },
  {
   "cell_type": "markdown",
   "metadata": {},
   "source": [
    "### Algoritmos de teste de normalização"
   ]
  },
  {
   "cell_type": "code",
   "execution_count": 4,
   "metadata": {},
   "outputs": [],
   "source": [
    "def Kurtosis(df):\n",
    "    if kurtosis(df, fisher=True) > 0:\n",
    "        return 1\n",
    "    else:\n",
    "        return 0\n",
    "    \n",
    "def Shapiro(df):\n",
    "    # p-value\n",
    "    if (shapiro(df)[1]) > 0.05:\n",
    "        return 1\n",
    "    else:\n",
    "        return 0\n",
    "    \n",
    "    \n",
    "def Skewness(df):\n",
    "    if (skew(df) >= -0.5) and (skew(df) <= 0.5):\n",
    "        return 1\n",
    "    else:\n",
    "        return 0\n",
    "    \n",
    "    "
   ]
  },
  {
   "cell_type": "markdown",
   "metadata": {},
   "source": [
    "### Manipulando planilhas"
   ]
  },
  {
   "cell_type": "code",
   "execution_count": 5,
   "metadata": {},
   "outputs": [],
   "source": [
    "worksheet = xls.Workbook('../AnaliseExploratoria/PlanilhaResultado.xlsx')\n",
    "aba_grupo1 = worksheet.add_worksheet('Grupo 1')\n",
    "aba_grupo2 = worksheet.add_worksheet('Grupo 2')\n",
    "aba_grupo3 = worksheet.add_worksheet('Grupo 3')"
   ]
  },
  {
   "cell_type": "code",
   "execution_count": 6,
   "metadata": {},
   "outputs": [
    {
     "data": {
      "text/plain": [
       "0"
      ]
     },
     "execution_count": 6,
     "metadata": {},
     "output_type": "execute_result"
    }
   ],
   "source": [
    "bold = worksheet.add_format({'bold': 1})\n",
    "\n",
    "aba_grupo1.write('A1', 'Lançamentos de todas as empresas de 6 a 10', bold)\n",
    "aba_grupo1.write('B1', 'Quantidade de lançamentos', bold)\n",
    "aba_grupo1.write('C1', 'Kurtosis', bold)\n",
    "aba_grupo1.write('D1', 'Shapiro', bold)\n",
    "aba_grupo1.write('E1', 'Skewness', bold)\n",
    "aba_grupo1.write('F1', 'Todos V', bold)\n",
    "aba_grupo1.write('G1', 'Todos F', bold)\n",
    "aba_grupo1.write('H1', 'Apenas Kurtosis V', bold)\n",
    "aba_grupo1.write('I1', 'Apenas Shapiro V', bold)\n",
    "aba_grupo1.write('J1', 'Apenas Skewness V', bold)\n",
    "aba_grupo1.write('K1', 'Kurtosis e Shapiro V', bold)\n",
    "aba_grupo1.write('L1', 'Kurtosis e Skewness V', bold)\n",
    "aba_grupo1.write('M1', 'Shapiro e Skewness V', bold)\n",
    "\n",
    "aba_grupo2.write('A1', 'Lançamentos de todas as empresas de 11 a 20', bold)\n",
    "aba_grupo2.write('B1', 'Quantidade de lançamentos', bold)\n",
    "aba_grupo2.write('C1', 'Kurtosis', bold)\n",
    "aba_grupo2.write('D1', 'Shapiro', bold)\n",
    "aba_grupo2.write('E1', 'Skewness', bold)\n",
    "aba_grupo2.write('F1', 'Todos V', bold)\n",
    "aba_grupo2.write('G1', 'Todos F', bold)\n",
    "aba_grupo2.write('H1', 'Apenas Kurtosis V', bold)\n",
    "aba_grupo2.write('I1', 'Apenas Shapiro V', bold)\n",
    "aba_grupo2.write('J1', 'Apenas Skewness V', bold)\n",
    "aba_grupo2.write('K1', 'Kurtosis e Shapiro V', bold)\n",
    "aba_grupo2.write('L1', 'Kurtosis e Shapiro V', bold)\n",
    "aba_grupo2.write('M1', 'Shapiro e Skewness V', bold)\n",
    "\n",
    "aba_grupo3.write('A1', 'Lançamentos de todas as empresas acima de 21', bold)\n",
    "aba_grupo3.write('B1', 'Quantidade de lançamentos', bold)\n",
    "aba_grupo3.write('C1', 'Kurtosis', bold)\n",
    "aba_grupo3.write('D1', 'Shapiro', bold)\n",
    "aba_grupo3.write('E1', 'Skewness', bold)\n",
    "aba_grupo3.write('F1', 'Todos V', bold)\n",
    "aba_grupo3.write('G1', 'Todos F', bold)\n",
    "aba_grupo3.write('H1', 'Apenas Kurtosis V', bold)\n",
    "aba_grupo3.write('I1', 'Apenas Shapiro V', bold)\n",
    "aba_grupo3.write('J1', 'Apenas Skewness V', bold)\n",
    "aba_grupo3.write('K1', 'Kurtosis e Shapiro V', bold)\n",
    "aba_grupo3.write('L1', 'Kurtosis e Shapiro V', bold)\n",
    "aba_grupo3.write('M1', 'Shapiro e Skewness V', bold)\n",
    "\n"
   ]
  },
  {
   "cell_type": "code",
   "execution_count": 7,
   "metadata": {},
   "outputs": [],
   "source": [
    "def tabela_verdade(aba_grupo, num_linhas, KurtosisVar, ShapiroVar, SkewnessVar):\n",
    "    #todos verdadeiros\n",
    "    if (KurtosisVar == 1 and ShapiroVar == 1 and SkewnessVar == 1) :\n",
    "        aba_grupo.write('F' + str(num_linhas), 1)\n",
    "    else:  \n",
    "        aba_grupo.write('F' + str(num_linhas), 0)\n",
    "\n",
    "    #todos falsos\n",
    "    if (KurtosisVar == 0 and ShapiroVar == 0 and SkewnessVar == 0) :\n",
    "        aba_grupo.write('G' + str(num_linhas), 1)\n",
    "    else:  \n",
    "        aba_grupo.write('G' + str(num_linhas), 0)\n",
    "\n",
    "    #Apenas Kurtosis Verdadeiro\n",
    "    if (KurtosisVar == 1 and ShapiroVar == 0 and SkewnessVar == 0) :\n",
    "        aba_grupo.write('H' + str(num_linhas), 1)\n",
    "    else:  \n",
    "        aba_grupo.write('H' + str(num_linhas), 0)\n",
    "\n",
    "    #Apenas Shapiro Verdadeiro\n",
    "    if (KurtosisVar == 0 and ShapiroVar == 1 and SkewnessVar == 0) :\n",
    "        aba_grupo.write('I' + str(num_linhas), 1)\n",
    "    else:  \n",
    "        aba_grupo.write('I' + str(num_linhas), 0)\n",
    "\n",
    "    #Apenas Skewness Verdadeiro\n",
    "    if (KurtosisVar == 0 and ShapiroVar == 0 and SkewnessVar == 1) :\n",
    "        aba_grupo.write('J' + str(num_linhas), 1)\n",
    "    else:  \n",
    "        aba_grupo.write('J' + str(num_linhas), 0)\n",
    "\n",
    "    #Apenas Kurtosis e Shapiro Verdadeiro\n",
    "    if (KurtosisVar == 1 and ShapiroVar == 1 and SkewnessVar == 0) :\n",
    "        aba_grupo.write('K' + str(num_linhas), 1)\n",
    "    else:  \n",
    "        aba_grupo.write('K' + str(num_linhas), 0)\n",
    "\n",
    "    #Apenas Kurtosis e Skewness Verdadeiro\n",
    "    if (KurtosisVar == 1 and ShapiroVar == 0 and SkewnessVar == 1) :\n",
    "        aba_grupo.write('L' + str(num_linhas), 1)\n",
    "    else:  \n",
    "        aba_grupo.write('L' + str(num_linhas), 0)\n",
    "\n",
    "    #Apenas Kurtosis e Skewness Verdadeiro\n",
    "    if (KurtosisVar == 0 and ShapiroVar == 1 and SkewnessVar == 1) :\n",
    "        aba_grupo.write('M' + str(num_linhas), 1)\n",
    "    else:  \n",
    "        aba_grupo.write('M' + str(num_linhas), 0)"
   ]
  },
  {
   "cell_type": "code",
   "execution_count": 8,
   "metadata": {},
   "outputs": [
    {
     "name": "stderr",
     "output_type": "stream",
     "text": [
      "/Users/raissa.costa.brizeno/anaconda3/lib/python3.6/site-packages/scipy/stats/morestats.py:1307: UserWarning: Input data for shapiro has range zero. The results may not be accurate.\n",
      "  warnings.warn(\"Input data for shapiro has range zero. The results \"\n"
     ]
    }
   ],
   "source": [
    "num_linhas_1 = 2\n",
    "num_linhas_2 = 2\n",
    "num_linhas_3 = 2\n",
    "\n",
    "for key, df in dfs.items():\n",
    "    for categoria in df.Categoria.unique():\n",
    "        if((len(df[df.Categoria == categoria]) >= 6) and (len(df[df.Categoria == categoria]) <= 10)):\n",
    "            \n",
    "            KurtosisVar = Kurtosis(df[df.Categoria == categoria].Value)\n",
    "            ShapiroVar = Shapiro(df[df.Categoria == categoria].Value)\n",
    "            SkewnessVar = Skewness(df[df.Categoria == categoria].Value)\n",
    "            \n",
    "            aba_grupo1.write('A' + str(num_linhas_1), categoria + ' - ' + key)\n",
    "            aba_grupo1.write('B' + str(num_linhas_1), len(df[df.Categoria == categoria]))\n",
    "            aba_grupo1.write('C' + str(num_linhas_1), KurtosisVar)\n",
    "            aba_grupo1.write('D' + str(num_linhas_1), ShapiroVar)\n",
    "            aba_grupo1.write('E' + str(num_linhas_1), SkewnessVar)\n",
    "                \n",
    "            tabela_verdade(aba_grupo1, num_linhas_1, KurtosisVar, ShapiroVar, SkewnessVar)    \n",
    "                \n",
    "            num_linhas_1 += 1\n",
    "            \n",
    "        elif((len(df[df.Categoria == categoria]) >= 11) and (len(df[df.Categoria == categoria]) <= 20)):\n",
    "            \n",
    "            KurtosisVar = Kurtosis(df[df.Categoria == categoria].Value)\n",
    "            ShapiroVar = Shapiro(df[df.Categoria == categoria].Value)\n",
    "            SkewnessVar = Skewness(df[df.Categoria == categoria].Value)\n",
    "            \n",
    "            aba_grupo2.write('A' + str(num_linhas_2), categoria + ' - ' + key)\n",
    "            aba_grupo2.write('B' + str(num_linhas_2), len(df[df.Categoria == categoria]))\n",
    "            aba_grupo2.write('C' + str(num_linhas_2), KurtosisVar)\n",
    "            aba_grupo2.write('D' + str(num_linhas_2), ShapiroVar)\n",
    "            aba_grupo2.write('E' + str(num_linhas_2), SkewnessVar)\n",
    "            \n",
    "            tabela_verdade(aba_grupo2, num_linhas_2, KurtosisVar, ShapiroVar, SkewnessVar)    \n",
    "                \n",
    "            num_linhas_2 += 1\n",
    "            \n",
    "        elif((len(df[df.Categoria == categoria]) >= 21)):\n",
    "            \n",
    "            KurtosisVar = Kurtosis(df[df.Categoria == categoria].Value)\n",
    "            ShapiroVar = Shapiro(df[df.Categoria == categoria].Value)\n",
    "            SkewnessVar = Skewness(df[df.Categoria == categoria].Value)\n",
    "            \n",
    "            aba_grupo3.write('A' + str(num_linhas_3), categoria + ' - ' + key)\n",
    "            aba_grupo3.write('B' + str(num_linhas_3), len(df[df.Categoria == categoria]))\n",
    "            aba_grupo3.write('C' + str(num_linhas_3), KurtosisVar)\n",
    "            aba_grupo3.write('D' + str(num_linhas_3), ShapiroVar)\n",
    "            aba_grupo3.write('E' + str(num_linhas_3), SkewnessVar)\n",
    "            \n",
    "            tabela_verdade(aba_grupo3, num_linhas_3, KurtosisVar, ShapiroVar, SkewnessVar)    \n",
    "            \n",
    "            num_linhas_3 += 1\n",
    "\n",
    "worksheet.close()"
   ]
  },
  {
   "cell_type": "code",
   "execution_count": 71,
   "metadata": {},
   "outputs": [],
   "source": [
    "#plt.rcParams['figure.figsize'] = (10,20)\n",
    "#plt.scatter(dfs['Cadari'].Value, dfs['Cadari'].Categoria)\n",
    "#plt.figure(figsize=(0.8,0.8))"
   ]
  },
  {
   "cell_type": "markdown",
   "metadata": {},
   "source": [
    "### Testando algoritmo de Kurtosis"
   ]
  },
  {
   "cell_type": "code",
   "execution_count": 349,
   "metadata": {},
   "outputs": [],
   "source": [
    "cadari = dfs['CadariEngenharia']"
   ]
  },
  {
   "cell_type": "code",
   "execution_count": 350,
   "metadata": {},
   "outputs": [],
   "source": [
    "cadari_cat_values = cadari[cadari.Categoria == 'Férias'].Value"
   ]
  },
  {
   "cell_type": "code",
   "execution_count": 351,
   "metadata": {},
   "outputs": [
    {
     "data": {
      "text/plain": [
       "-1.381106585180966"
      ]
     },
     "execution_count": 351,
     "metadata": {},
     "output_type": "execute_result"
    }
   ],
   "source": [
    "# usando definição de Fisher\n",
    "kurtosis(cadari_cat_values)"
   ]
  },
  {
   "cell_type": "code",
   "execution_count": 352,
   "metadata": {},
   "outputs": [
    {
     "data": {
      "text/plain": [
       "1.618893414819034"
      ]
     },
     "execution_count": 352,
     "metadata": {},
     "output_type": "execute_result"
    }
   ],
   "source": [
    "# usando definição de Pearson\n",
    "kurtosis(cadari_cat_values, fisher=False)"
   ]
  },
  {
   "cell_type": "code",
   "execution_count": 353,
   "metadata": {},
   "outputs": [
    {
     "data": {
      "text/plain": [
       "(0.9056280255317688, 0.32430094480514526)"
      ]
     },
     "execution_count": 353,
     "metadata": {},
     "output_type": "execute_result"
    }
   ],
   "source": [
    "shapiro(cadari_cat_values)"
   ]
  },
  {
   "cell_type": "code",
   "execution_count": 354,
   "metadata": {},
   "outputs": [
    {
     "data": {
      "text/plain": [
       "-0.09998618869157293"
      ]
     },
     "execution_count": 354,
     "metadata": {},
     "output_type": "execute_result"
    }
   ],
   "source": [
    "skew(cadari_cat_values)\n"
   ]
  },
  {
   "cell_type": "code",
   "execution_count": 355,
   "metadata": {},
   "outputs": [
    {
     "data": {
      "text/plain": [
       "-0.09998618869157293"
      ]
     },
     "execution_count": 355,
     "metadata": {},
     "output_type": "execute_result"
    }
   ],
   "source": [
    "skew(cadari_cat_values)"
   ]
  },
  {
   "cell_type": "code",
   "execution_count": 356,
   "metadata": {},
   "outputs": [
    {
     "data": {
      "text/plain": [
       "1"
      ]
     },
     "execution_count": 356,
     "metadata": {},
     "output_type": "execute_result"
    }
   ],
   "source": [
    "Skewness(cadari_cat_values)"
   ]
  },
  {
   "cell_type": "code",
   "execution_count": 357,
   "metadata": {},
   "outputs": [],
   "source": [
    "import matplotlib.pyplot as plt"
   ]
  },
  {
   "cell_type": "code",
   "execution_count": 358,
   "metadata": {},
   "outputs": [
    {
     "name": "stdout",
     "output_type": "stream",
     "text": [
      "KstestResult(statistic=1.0, pvalue=0.0)\n"
     ]
    },
    {
     "data": {
      "image/png": "[encoded data removed]",
      "text/plain": [
       "<matplotlib.figure.Figure at 0x1a28293c50>"
      ]
     },
     "metadata": {},
     "output_type": "display_data"
    }
   ],
   "source": [
    "plt.hist(cadari_cat_values)\n",
    "\n",
    "print(kstest(cadari_cat_values, 'norm'))"
   ]
  },
  {
   "cell_type": "code",
   "execution_count": 359,
   "metadata": {},
   "outputs": [
    {
     "data": {
      "text/plain": [
       "0.774513901645281"
      ]
     },
     "execution_count": 359,
     "metadata": {},
     "output_type": "execute_result"
    }
   ],
   "source": [
    "np.random.normal()"
   ]
  },
  {
   "cell_type": "code",
   "execution_count": 360,
   "metadata": {},
   "outputs": [
    {
     "data": {
      "text/plain": [
       "KstestResult(statistic=1.0, pvalue=0.0)"
      ]
     },
     "execution_count": 360,
     "metadata": {},
     "output_type": "execute_result"
    },
    {
     "data": {
      "image/png": "[encoded data removed]",
      "text/plain": [
       "<matplotlib.figure.Figure at 0x1a282415f8>"
      ]
     },
     "metadata": {},
     "output_type": "display_data"
    }
   ],
   "source": [
    "np.random.seed(987654321)\n",
    "x = stats.norm.rvs(loc=0.2, size=100)\n",
    "plt.hist(cadari_cat_values, histtype='stepfilled')\n",
    "kstest(cadari_agua_values,'norm')"
   ]
  },
  {
   "cell_type": "code",
   "execution_count": null,
   "metadata": {},
   "outputs": [],
   "source": []
  }
 ],
 "metadata": {
  "kernelspec": {
   "display_name": "Python 3",
   "language": "python",
   "name": "python3"
  },
  "language_info": {
   "codemirror_mode": {
    "name": "ipython",
    "version": 3
   },
   "file_extension": ".py",
   "mimetype": "text/x-python",
   "name": "python",
   "nbconvert_exporter": "python",
   "pygments_lexer": "ipython3",
   "version": "3.6.4"
  }
 },
 "nbformat": 4,
 "nbformat_minor": 2
}
