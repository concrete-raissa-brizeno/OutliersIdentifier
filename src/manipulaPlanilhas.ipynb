{
 "cells": [
  {
   "cell_type": "code",
   "execution_count": 250,
   "metadata": {},
   "outputs": [],
   "source": [
    "import pandas as pd\n",
    "import xlsxwriter as xls\n",
    "import numpy as np\n",
    "from scipy.stats import kurtosis, shapiro, skew, kstest, kurtosistest, skewtest\n",
    "#import matplotlib.pyplot as plt\n",
    "#%matplotlib inline"
   ]
  },
  {
   "cell_type": "code",
   "execution_count": 251,
   "metadata": {},
   "outputs": [],
   "source": [
    "dfs = {\n",
    "    'CadariEngenharia': pd.read_csv('../DadosFonte/cadariengenhariaearquiteturalt0.csv', sep=',', encoding='ISO-8859-1'),\n",
    "    'CombogoComunicacao': pd.read_csv('../DadosFonte/combogocomunicacao.csv', sep=',', encoding='ISO-8859-1'),\n",
    "    'DegrauArquitetos': pd.read_csv('../DadosFonte/degrauarquitetosassociados.csv', sep=',', encoding='ISO-8859-1'),\n",
    "    'EduardoPepato': pd.read_csv('../DadosFonte/eduardopepato.csv', sep=',', encoding='ISO-8859-1'),\n",
    "    'Espeo': pd.read_csv('../DadosFonte/espeo.csv', sep=',', encoding='ISO-8859-1'),\n",
    "    'Fast': pd.read_csv('../DadosFonte/fast.csv', sep=',', encoding='ISO-8859-1'),\n",
    "    'Fisiotrauma': pd.read_csv('../DadosFonte/fisiotrauma.csv', sep=',', encoding='ISO-8859-1'),\n",
    "    'gestaoNaPratica': pd.read_csv('../DadosFonte/gestaonapratica.csv', sep=',', encoding='ISO-8859-1'),\n",
    "    'GrupoDamiam': pd.read_csv('../DadosFonte/grupodamiam.csv', sep=',', encoding='ISO-8859-1'),\n",
    "    'InovaEmpresaJunior': pd.read_csv('../DadosFonte/inovaempresajunior.csv', sep=',', encoding='ISO-8859-1'),\n",
    "    'LuzEmSolucoes': pd.read_csv('../DadosFonte/luzemssolucoesempresariais.csv', sep=',', encoding='ISO-8859-1'),\n",
    "    'MarteInovacaoCultural': pd.read_csv('../DadosFonte/marteinovacaocultural.csv', sep=',', encoding='ISO-8859-1'),\n",
    "    'Mekatronik': pd.read_csv('../DadosFonte/mekatronik.csv', sep=',', encoding='ISO-8859-1'),\n",
    "    'NorthStarshipping': pd.read_csv('../DadosFonte/northstarshippingservices.csv', sep=',', encoding='ISO-8859-1'),\n",
    "    'primusconsultoriaempresarial': pd.read_csv('../DadosFonte/primusconsultoriaempresarial.csv', sep=',', encoding='ISO-8859-1'),\n",
    "    'signo': pd.read_csv('../DadosFonte/signo.csv', sep=',', encoding='ISO-8859-1'),\n",
    "    'spazioarchidesign': pd.read_csv('../DadosFonte/spazioarchidesign.csv', sep=',', encoding='ISO-8859-1'),\n",
    "    'tectobrastelecomltda': pd.read_csv('../DadosFonte/tectobrastelecomltda.csv', sep=',', encoding='ISO-8859-1'),\n",
    "    'tkcconsulting': pd.read_csv('../DadosFonte/tkcconsulting.csv', sep=',', encoding='ISO-8859-1'),\n",
    "    'wodesign0': pd.read_csv('../DadosFonte/wodesign0.csv', sep=',', encoding='ISO-8859-1')}"
   ]
  },
  {
   "cell_type": "code",
   "execution_count": 252,
   "metadata": {},
   "outputs": [],
   "source": [
    "#dfs['Cadari'].head()"
   ]
  },
  {
   "cell_type": "markdown",
   "metadata": {},
   "source": [
    "\n",
    "\n",
    "### Algoritmos de teste de normalização"
   ]
  },
  {
   "cell_type": "code",
   "execution_count": 253,
   "metadata": {},
   "outputs": [],
   "source": [
    "#todas as funçÕes que são nativas da biblioteca são com o inicio em minusculo, as minhas em maiusculo.\n",
    "\n",
    "def Kurtosis(df):\n",
    "    if kurtosis(df, fisher=True) > 0:\n",
    "        return 1\n",
    "    else:\n",
    "        return 0\n",
    "    \n",
    "def Shapiro(df):\n",
    "    # p-value\n",
    "    if (shapiro(df)[1]) > 0.05:\n",
    "        return 1\n",
    "    else:\n",
    "        return 0\n",
    "    \n",
    "def Skewness(df):\n",
    "    if (skew(df) >= -0.5) and (skew(df) <= 0.5):\n",
    "        return 1\n",
    "    else:\n",
    "        return 0\n",
    "    \n",
    "def Kolgomorov(df):\n",
    "    #print(kstest(df, 'norm'))\n",
    "    if kstest(df, 'norm')[1] > 0.05:\n",
    "        return 1\n",
    "    else:\n",
    "        return 0\n",
    "\n",
    "#funções apenas para o grupo 3   \n",
    "def KurtosisTest(df):\n",
    "    if kurtosistest(df)[1] > 0.05:\n",
    "        return 1\n",
    "    else:\n",
    "        return 0\n",
    "\n",
    "def SkewTest(df):\n",
    "    if skewtest(df)[1] > 0.05:\n",
    "        return 1\n",
    "    else:       \n",
    "        return 0"
   ]
  },
  {
   "cell_type": "code",
   "execution_count": 254,
   "metadata": {},
   "outputs": [
    {
     "data": {
      "text/plain": [
       "'\\n#Alpha = (valor max - valor min)/média\\ndef alpha(): \\n    \\n#verifica se é NORMAL se pelo menos 3 testes dos 4 forem positivos\\ndef normal():\\n    \\n#verifica se é  EMPATE se exatamente 2 testes dos 4 forem positivos\\ndef empate():\\n'"
      ]
     },
     "execution_count": 254,
     "metadata": {},
     "output_type": "execute_result"
    }
   ],
   "source": [
    "'''\n",
    "#Alpha = (valor max - valor min)/média\n",
    "def alpha(): \n",
    "    \n",
    "#verifica se é NORMAL se pelo menos 3 testes dos 4 forem positivos\n",
    "def normal():\n",
    "    \n",
    "#verifica se é  EMPATE se exatamente 2 testes dos 4 forem positivos\n",
    "def empate():\n",
    "'''\n",
    "    "
   ]
  },
  {
   "cell_type": "markdown",
   "metadata": {},
   "source": [
    "### Manipulando planilhas"
   ]
  },
  {
   "cell_type": "code",
   "execution_count": 255,
   "metadata": {},
   "outputs": [],
   "source": [
    "worksheet = xls.Workbook('../AnaliseExploratoria/PlanilhaResultado.xlsx')\n",
    "\n",
    "aba_grupo1 = worksheet.add_worksheet('Grupo 1')\n",
    "aba_grupo2 = worksheet.add_worksheet('Grupo 2')\n",
    "aba_grupo3 = worksheet.add_worksheet('Grupo 3')\n"
   ]
  },
  {
   "cell_type": "code",
   "execution_count": 256,
   "metadata": {},
   "outputs": [
    {
     "data": {
      "text/plain": [
       "0"
      ]
     },
     "execution_count": 256,
     "metadata": {},
     "output_type": "execute_result"
    }
   ],
   "source": [
    "bold = worksheet.add_format({'bold': 1})\n",
    "\n",
    "aba_grupo1.write('A1', 'Lançamentos de todas as empresas de 6 a 10', bold)\n",
    "aba_grupo1.write('B1', 'Quantidade de lançamentos', bold)\n",
    "aba_grupo1.write('C1', 'Valor Kurtosis', bold)\n",
    "aba_grupo1.write('D1', 'P-value Kurtosis', bold)\n",
    "aba_grupo1.write('E1', 'Kurtosis', bold)\n",
    "aba_grupo1.write('F1', 'Valor Shapiro', bold)\n",
    "aba_grupo1.write('G1', 'P-value Shapiro', bold)\n",
    "aba_grupo1.write('H1', 'Shapiro', bold)\n",
    "aba_grupo1.write('I1', 'Valor Skewness', bold)\n",
    "aba_grupo1.write('J1', 'P-value Skewness', bold)\n",
    "aba_grupo1.write('K1', 'Skewness', bold)\n",
    "aba_grupo1.write('L1', 'Valor Kolgomorov', bold)\n",
    "aba_grupo1.write('M1', 'P-value Kolgomorov', bold)\n",
    "aba_grupo1.write('N1', 'Kolgomorov', bold)\n",
    "aba_grupo1.write('O1', 'Todos V', bold)\n",
    "aba_grupo1.write('P1', 'Todos F', bold)\n",
    "aba_grupo1.write('Q1', 'Apenas Kurtosis V', bold)\n",
    "aba_grupo1.write('R1', 'Apenas Shapiro V', bold)\n",
    "aba_grupo1.write('S1', 'Apenas Skewness V', bold)\n",
    "aba_grupo1.write('T1', 'Apenas Kolgomorov V', bold)\n",
    "aba_grupo1.write('U1', 'Kurtosis e Shapiro V', bold)\n",
    "aba_grupo1.write('V1', 'Kurtosis e Skewness V', bold)\n",
    "aba_grupo1.write('W1', 'Shapiro e Skewness V', bold)\n",
    "aba_grupo1.write('X1', 'Kurtosis e Kolgomorov V', bold)\n",
    "aba_grupo1.write('Y1', 'Skewness e Kolgomorov V', bold)\n",
    "aba_grupo1.write('Z1', 'Shapiro e Kolgomorov V', bold)\n",
    "aba_grupo1.write('AA1', 'Valor Máximo', bold)\n",
    "aba_grupo1.write('AB1', 'Média', bold)\n",
    "aba_grupo1.write('AC1', 'Desvio padrão', bold)\n",
    "aba_grupo1.write('AD1', 'Alpha', bold)\n",
    "aba_grupo1.write('AE1', 'Limite Gama', bold)\n",
    "\n",
    "aba_grupo2.write('A1', 'Lançamentos de todas as empresas de 11 a 20', bold)\n",
    "aba_grupo2.write('B1', 'Quantidade de lançamentos', bold)\n",
    "aba_grupo2.write('C1', 'Valor Kurtosis', bold)\n",
    "aba_grupo2.write('D1', 'P-value Kurtosis', bold)\n",
    "aba_grupo2.write('E1', 'Kurtosis', bold)\n",
    "aba_grupo2.write('F1', 'Valor Shapiro', bold)\n",
    "aba_grupo2.write('G1', 'P-value Shapiro', bold)\n",
    "aba_grupo2.write('H1', 'Shapiro', bold)\n",
    "aba_grupo2.write('I1', 'Valor Skewness', bold)\n",
    "aba_grupo2.write('J1', 'P-value Skewness', bold)\n",
    "aba_grupo2.write('K1', 'Skewness', bold)\n",
    "aba_grupo2.write('L1', 'Valor Kolgomorov', bold)\n",
    "aba_grupo2.write('M1', 'P-value Kolgomorov', bold)\n",
    "aba_grupo2.write('N1', 'Kolgomorov', bold)\n",
    "aba_grupo2.write('O1', 'Todos V', bold)\n",
    "aba_grupo2.write('P1', 'Todos F', bold)\n",
    "aba_grupo2.write('Q1', 'Apenas Kurtosis V', bold)\n",
    "aba_grupo2.write('R1', 'Apenas Shapiro V', bold)\n",
    "aba_grupo2.write('S1', 'Apenas Skewness V', bold)\n",
    "aba_grupo2.write('T1', 'Apenas Kolgomorov V', bold)\n",
    "aba_grupo2.write('U1', 'Kurtosis e Shapiro V', bold)\n",
    "aba_grupo2.write('V1', 'Kurtosis e Skewness V', bold)\n",
    "aba_grupo2.write('W1', 'Shapiro e Skewness V', bold)\n",
    "aba_grupo2.write('X1', 'Kurtosis e Kolgomorov V', bold)\n",
    "aba_grupo2.write('Y1', 'Skewness e Kolgomorov V', bold)\n",
    "aba_grupo2.write('Z1', 'Shapiro e Kolgomorov V', bold)\n",
    "aba_grupo2.write('AA1', 'Valor Máximo', bold)\n",
    "aba_grupo2.write('AB1', 'Média', bold)\n",
    "aba_grupo2.write('AC1', 'Desvio padrão', bold)\n",
    "aba_grupo2.write('AD1', 'Alpha', bold)\n",
    "aba_grupo2.write('AE1', 'Limite Gama', bold)\n",
    "\n",
    "aba_grupo3.write('A1', 'Lançamentos de todas as empresas acima de 21', bold)\n",
    "aba_grupo3.write('B1', 'Quantidade de lançamentos', bold)\n",
    "aba_grupo3.write('C1', 'Valor Kurtosis', bold)\n",
    "aba_grupo3.write('D1', 'P-value Kurtosis', bold)\n",
    "aba_grupo3.write('E1', 'Kurtosis', bold)\n",
    "aba_grupo3.write('F1', 'Valor Shapiro', bold)\n",
    "aba_grupo3.write('G1', 'P-value Shapiro', bold)\n",
    "aba_grupo3.write('H1', 'Shapiro', bold)\n",
    "aba_grupo3.write('I1', 'Valor Skewness', bold)\n",
    "aba_grupo3.write('J1', 'P-value Skewness', bold)\n",
    "aba_grupo3.write('K1', 'Skewness', bold)\n",
    "aba_grupo3.write('L1', 'Valor Kolgomorov', bold)\n",
    "aba_grupo3.write('M1', 'P-value Kolgomorov', bold)\n",
    "aba_grupo3.write('N1', 'Kolgomorov', bold)\n",
    "aba_grupo3.write('O1', 'Todos V', bold)\n",
    "aba_grupo3.write('P1', 'Todos F', bold)\n",
    "aba_grupo3.write('Q1', 'Apenas Kurtosis V', bold)\n",
    "aba_grupo3.write('R1', 'Apenas Shapiro V', bold)\n",
    "aba_grupo3.write('S1', 'Apenas Skewness V', bold)\n",
    "aba_grupo3.write('T1', 'Apenas Kolgomorov V', bold)\n",
    "aba_grupo3.write('U1', 'Kurtosis e Shapiro V', bold)\n",
    "aba_grupo3.write('V1', 'Kurtosis e Skewness V', bold)\n",
    "aba_grupo3.write('W1', 'Shapiro e Skewness V', bold)\n",
    "aba_grupo3.write('X1', 'Kurtosis e Kolgomorov V', bold)\n",
    "aba_grupo3.write('Y1', 'Skewness e Kolgomorov V', bold)\n",
    "aba_grupo3.write('Z1', 'Shapiro e Kolgomorov V', bold)\n",
    "aba_grupo3.write('AA1', 'Valor Máximo', bold)\n",
    "aba_grupo3.write('AB1', 'Média', bold)\n",
    "aba_grupo3.write('AC1', 'Desvio padrão', bold)\n",
    "aba_grupo3.write('AD1', 'Alpha', bold)\n",
    "aba_grupo3.write('AE1', 'Limite Gama', bold)"
   ]
  },
  {
   "cell_type": "code",
   "execution_count": 257,
   "metadata": {},
   "outputs": [],
   "source": [
    "def tabela_verdade(aba_grupo, num_linhas, KurtosisVar, ShapiroVar, SkewnessVar, KolgomorovVar):\n",
    "    #todos verdadeiros\n",
    "    if (KurtosisVar == 1 and ShapiroVar == 1 and SkewnessVar == 1 and Kolgomorov == 1) :\n",
    "        aba_grupo.write('O' + str(num_linhas), 1)\n",
    "    else:  \n",
    "        aba_grupo.write('O' + str(num_linhas), 0)\n",
    "\n",
    "    #todos falsos\n",
    "    if (KurtosisVar == 0 and ShapiroVar == 0 and SkewnessVar == 0 and Kolgomorov == 0) :\n",
    "        aba_grupo.write('P' + str(num_linhas), 1)\n",
    "    else:  \n",
    "        aba_grupo.write('P' + str(num_linhas), 0)\n",
    "\n",
    "    #Apenas Kurtosis Verdadeiro\n",
    "    if (KurtosisVar == 1 and ShapiroVar == 0 and SkewnessVar == 0) :\n",
    "        aba_grupo.write('Q' + str(num_linhas), 1)\n",
    "    else:  \n",
    "        aba_grupo.write('Q' + str(num_linhas), 0)\n",
    "\n",
    "    #Apenas Shapiro Verdadeiro\n",
    "    if (KurtosisVar == 0 and ShapiroVar == 1 and SkewnessVar == 0) :\n",
    "        aba_grupo.write('R' + str(num_linhas), 1)\n",
    "    else:  \n",
    "        aba_grupo.write('R' + str(num_linhas), 0)\n",
    "\n",
    "    #Apenas Skewness Verdadeiro\n",
    "    if (KurtosisVar == 0 and ShapiroVar == 0 and SkewnessVar == 1) :\n",
    "        aba_grupo.write('S' + str(num_linhas), 1)\n",
    "    else:  \n",
    "        aba_grupo.write('S' + str(num_linhas), 0)\n",
    "    \n",
    "    #Apenas Kolgomorov Verdadeiro\n",
    "    if (KurtosisVar == 0 and ShapiroVar == 0 and SkewnessVar == 0 and KolgomorovVar == 1):\n",
    "        aba_grupo.write('T' + str(num_linhas), 1)\n",
    "    else:\n",
    "        aba_grupo.write('T' + str(num_linhas), 0)\n",
    "        \n",
    "    #Apenas Kurtosis e Shapiro Verdadeiro\n",
    "    if (KurtosisVar == 1 and ShapiroVar == 1 and SkewnessVar == 0) :\n",
    "        aba_grupo.write('U' + str(num_linhas), 1)\n",
    "    else:  \n",
    "        aba_grupo.write('U' + str(num_linhas), 0)\n",
    "\n",
    "    #Apenas Kurtosis e Skewness Verdadeiro\n",
    "    if (KurtosisVar == 1 and ShapiroVar == 0 and SkewnessVar == 1) :\n",
    "        aba_grupo.write('V' + str(num_linhas), 1)\n",
    "    else:  \n",
    "        aba_grupo.write('V' + str(num_linhas), 0)\n",
    "\n",
    "    #Apenas shapiro e Skewness Verdadeiro\n",
    "    if (KurtosisVar == 0 and ShapiroVar == 1 and SkewnessVar == 1) :\n",
    "        aba_grupo.write('W' + str(num_linhas), 1)\n",
    "    else:  \n",
    "        aba_grupo.write('W' + str(num_linhas), 0)\n",
    "        \n",
    "    "
   ]
  },
  {
   "cell_type": "code",
   "execution_count": 258,
   "metadata": {},
   "outputs": [
    {
     "name": "stderr",
     "output_type": "stream",
     "text": [
      "/Users/raissa.costa.brizeno/anaconda3/lib/python3.6/site-packages/scipy/stats/morestats.py:1307: UserWarning: Input data for shapiro has range zero. The results may not be accurate.\n",
      "  warnings.warn(\"Input data for shapiro has range zero. The results \"\n"
     ]
    }
   ],
   "source": [
    "num_linhas_1 = 2\n",
    "num_linhas_2 = 2\n",
    "num_linhas_3 = 2\n",
    "\n",
    "for key, df in dfs.items():\n",
    "    for categoria in df.Categoria.unique():\n",
    "        if((len(df[df.Categoria == categoria]) >= 6) and (len(df[df.Categoria == categoria]) <= 10)):\n",
    "            \n",
    "            KurtosisVar = Kurtosis(df[df.Categoria == categoria].Value)\n",
    "            ShapiroVar = Shapiro(df[df.Categoria == categoria].Value)\n",
    "            SkewnessVar = Skewness(df[df.Categoria == categoria].Value)\n",
    "            KolgomorovVar = Kolgomorov(df[df.Categoria == categoria].Value)\n",
    "            \n",
    "            aba_grupo1.write('A' + str(num_linhas_1), categoria + ' - ' + key)\n",
    "            aba_grupo1.write('B' + str(num_linhas_1), len(df[df.Categoria == categoria]))\n",
    "            \n",
    "            #valor Kurtosis\n",
    "            aba_grupo1.write('C' + str(num_linhas_1), kurtosis(df[df.Categoria == categoria].Value))\n",
    "            aba_grupo1.write('E' + str(num_linhas_1), KurtosisVar)\n",
    "            \n",
    "            #valor shapiro\n",
    "            aba_grupo1.write('F' + str(num_linhas_1), shapiro((df[df.Categoria == categoria].Value))[0])\n",
    "            #p-value shapiro\n",
    "            aba_grupo1.write('G' + str(num_linhas_1), shapiro((df[df.Categoria == categoria].Value))[1])\n",
    "            aba_grupo1.write('H' + str(num_linhas_1), ShapiroVar)\n",
    "            \n",
    "            #valor skewness\n",
    "            aba_grupo1.write('I' + str(num_linhas_1), skew(df[df.Categoria == categoria].Value))\n",
    "            aba_grupo1.write('K' + str(num_linhas_1), SkewnessVar)\n",
    "            \n",
    "            #valor kolgomorov\n",
    "            aba_grupo1.write('L' + str(num_linhas_1), kstest((df[df.Categoria == categoria].Value), 'norm')[0])\n",
    "            #p-valor kolgomorov\n",
    "            aba_grupo1.write('M' + str(num_linhas_1), kstest((df[df.Categoria == categoria].Value), 'norm')[1])\n",
    "            aba_grupo1.write('N' + str(num_linhas_1), KolgomorovVar)\n",
    "            \n",
    "            aba_grupo1.write('AA' + str(num_linhas_1), (df[df.Categoria == categoria].Value).max())\n",
    "            #média\n",
    "            aba_grupo1.write('AB' + str(num_linhas_1), (df[df.Categoria == categoria].Value).mean())\n",
    "            #desvio padrão\n",
    "            aba_grupo1.write('AC' + str(num_linhas_1), (df[df.Categoria == categoria].Value).std())\n",
    "          \n",
    "            #Alpha \n",
    "            aba_grupo1.write('AD' + str(num_linhas_1),((((df[df.Categoria == categoria].Value).max()) - ((df[df.Categoria == categoria].Value).min()))/((df[df.Categoria == categoria].Value).mean())))\n",
    "\n",
    "            #LIMIT_GAMA=3DESVIO_PAD + MEDIA\n",
    "            aba_grupo1.write('AE' + str(num_linhas_1), (((df[df.Categoria == categoria].Value).std())+((df[df.Categoria == categoria].Value).mean())))\n",
    "            \n",
    "            \n",
    "            tabela_verdade(aba_grupo1, num_linhas_1, KurtosisVar, ShapiroVar, SkewnessVar, KolgomorovVar)    \n",
    "                \n",
    "            num_linhas_1 += 1\n",
    "            \n",
    "        elif((len(df[df.Categoria == categoria]) >= 11) and (len(df[df.Categoria == categoria]) <= 20)):\n",
    "            \n",
    "            KurtosisVar = Kurtosis(df[df.Categoria == categoria].Value)\n",
    "            ShapiroVar = Shapiro(df[df.Categoria == categoria].Value)\n",
    "            SkewnessVar = Skewness(df[df.Categoria == categoria].Value)\n",
    "            KolgomorovVar = Kolgomorov(df[df.Categoria == categoria].Value)\n",
    "            \n",
    "            aba_grupo2.write('A' + str(num_linhas_2), categoria + ' - ' + key)\n",
    "            aba_grupo2.write('B' + str(num_linhas_2), len(df[df.Categoria == categoria]))\n",
    "            \n",
    "            #valor Kurtosis\n",
    "            aba_grupo2.write('C' + str(num_linhas_2), kurtosis(df[df.Categoria == categoria].Value))\n",
    "            aba_grupo2.write('E' + str(num_linhas_2), KurtosisVar)\n",
    "            \n",
    "            #valor shapiro\n",
    "            aba_grupo2.write('F' + str(num_linhas_2), shapiro((df[df.Categoria == categoria].Value))[0])\n",
    "            #p-value shapiro\n",
    "            aba_grupo2.write('G' + str(num_linhas_2), shapiro((df[df.Categoria == categoria].Value))[1])\n",
    "            aba_grupo2.write('H' + str(num_linhas_2), ShapiroVar)\n",
    "            \n",
    "            #valor skewness\n",
    "            aba_grupo2.write('I' + str(num_linhas_2), skew(df[df.Categoria == categoria].Value))\n",
    "            aba_grupo2.write('K' + str(num_linhas_2), SkewnessVar)\n",
    "            \n",
    "            #valor kolgomorov\n",
    "            aba_grupo2.write('L' + str(num_linhas_2), kstest((df[df.Categoria == categoria].Value), 'norm')[0])\n",
    "            #p-valor kolgomorov\n",
    "            aba_grupo2.write('M' + str(num_linhas_2), kstest((df[df.Categoria == categoria].Value), 'norm')[1])\n",
    "            aba_grupo2.write('N' + str(num_linhas_2), KolgomorovVar)\n",
    "            \n",
    "            aba_grupo2.write('AA' + str(num_linhas_2), (df[df.Categoria == categoria].Value).max())\n",
    "            #media\n",
    "            aba_grupo2.write('AB' + str(num_linhas_2), (df[df.Categoria == categoria].Value).mean())\n",
    "            #desvio padrão\n",
    "            aba_grupo2.write('AC' + str(num_linhas_2), (df[df.Categoria == categoria].Value).std())\n",
    "            \n",
    "            #Alpha \n",
    "            aba_grupo2.write('AD' + str(num_linhas_2),((((df[df.Categoria == categoria].Value).max()) - ((df[df.Categoria == categoria].Value).min()))/((df[df.Categoria == categoria].Value).mean())))\n",
    "\n",
    "            #LIMIT_GAMA\n",
    "            aba_grupo2.write('AE' + str(num_linhas_2), (((df[df.Categoria == categoria].Value).std())+((df[df.Categoria == categoria].Value).mean())))\n",
    "            \n",
    "            tabela_verdade(aba_grupo2, num_linhas_2, KurtosisVar, ShapiroVar, SkewnessVar, KolgomorovVar)    \n",
    "                \n",
    "            num_linhas_2 += 1\n",
    "            \n",
    "        elif((len(df[df.Categoria == categoria]) >= 21)):\n",
    "            \n",
    "            KurtosisVar = KurtosisTest(df[df.Categoria == categoria].Value)\n",
    "            ShapiroVar = Shapiro(df[df.Categoria == categoria].Value)\n",
    "            SkewnessVar = SkewTest(df[df.Categoria == categoria].Value)\n",
    "            KolgomorovVar = Kolgomorov(df[df.Categoria == categoria].Value)\n",
    "            \n",
    "            aba_grupo3.write('A' + str(num_linhas_3), categoria + ' - ' + key)\n",
    "            aba_grupo3.write('B' + str(num_linhas_3), len(df[df.Categoria == categoria]))\n",
    "            \n",
    "            \n",
    "            #valor Kurtosis\n",
    "            aba_grupo3.write('C' + str(num_linhas_3), kurtosistest(df[df.Categoria == categoria].Value)[0])\n",
    "            aba_grupo3.write('D' + str(num_linhas_3), kurtosistest(df[df.Categoria == categoria].Value)[1])\n",
    "            aba_grupo3.write('E' + str(num_linhas_3), KurtosisVar)\n",
    "            \n",
    "            #valor shapiro\n",
    "            aba_grupo3.write('F' + str(num_linhas_3), shapiro((df[df.Categoria == categoria].Value))[0])\n",
    "            #p-value shapiro\n",
    "            aba_grupo3.write('G' + str(num_linhas_3), shapiro((df[df.Categoria == categoria].Value))[1])\n",
    "            aba_grupo3.write('H' + str(num_linhas_3), ShapiroVar)\n",
    "            \n",
    "            #valor skewness\n",
    "            aba_grupo3.write('I' + str(num_linhas_3), skewtest(df[df.Categoria == categoria].Value)[0])\n",
    "            aba_grupo3.write('J' + str(num_linhas_3), skewtest(df[df.Categoria == categoria].Value)[1])\n",
    "            aba_grupo3.write('K' + str(num_linhas_3), SkewnessVar)\n",
    "            \n",
    "            #valor kolgomorov\n",
    "            aba_grupo3.write('L' + str(num_linhas_3), kstest((df[df.Categoria == categoria].Value), 'norm')[0])\n",
    "            #p-valor kolgomorov\n",
    "            aba_grupo3.write('M' + str(num_linhas_3), kstest((df[df.Categoria == categoria].Value), 'norm')[1])\n",
    "            aba_grupo3.write('N' + str(num_linhas_3), KolgomorovVar)\n",
    "            \n",
    "            aba_grupo3.write('AA' + str(num_linhas_3), (df[df.Categoria == categoria].Value).max())\n",
    "            #média\n",
    "            aba_grupo3.write('AB' + str(num_linhas_3), (df[df.Categoria == categoria].Value).mean())\n",
    "            #dedvio padrão\n",
    "            aba_grupo3.write('AC' + str(num_linhas_3), (df[df.Categoria == categoria].Value).std())\n",
    "            \n",
    "            #Alpha \n",
    "            aba_grupo3.write('AD' + str(num_linhas_3),((((df[df.Categoria == categoria].Value).max()) - ((df[df.Categoria == categoria].Value).min()))/((df[df.Categoria == categoria].Value).mean())))\n",
    "\n",
    "            #LIMIT_GAMA\n",
    "            aba_grupo3.write('AE' + str(num_linhas_3), (((df[df.Categoria == categoria].Value).std())+((df[df.Categoria == categoria].Value).mean())))\n",
    "            \n",
    "            \n",
    "            tabela_verdade(aba_grupo3, num_linhas_3, KurtosisVar, ShapiroVar, SkewnessVar, KolgomorovVar)    \n",
    "            \n",
    "            \n",
    "            \n",
    "            num_linhas_3 += 1\n"
   ]
  },
  {
   "cell_type": "code",
   "execution_count": 259,
   "metadata": {},
   "outputs": [],
   "source": [
    "worksheet.close()"
   ]
  },
  {
   "cell_type": "code",
   "execution_count": 104,
   "metadata": {},
   "outputs": [],
   "source": [
    "#plt.rcParams['figure.figsize'] = (10,20)\n",
    "#plt.scatter(dfs['Cadari'].Value, dfs['Cadari'].Categoria)\n",
    "#plt.figure(figsize=(0.8,0.8))"
   ]
  },
  {
   "cell_type": "markdown",
   "metadata": {},
   "source": [
    "### Testando os algoritmos de normalização:"
   ]
  },
  {
   "cell_type": "code",
   "execution_count": 119,
   "metadata": {},
   "outputs": [],
   "source": [
    "cadari = dfs['CadariEngenharia']"
   ]
  },
  {
   "cell_type": "code",
   "execution_count": 120,
   "metadata": {},
   "outputs": [],
   "source": [
    "cadari_cat_values = cadari[cadari.Categoria == 'Férias'].Value"
   ]
  },
  {
   "cell_type": "code",
   "execution_count": 89,
   "metadata": {},
   "outputs": [
    {
     "data": {
      "text/plain": [
       "0"
      ]
     },
     "execution_count": 89,
     "metadata": {},
     "output_type": "execute_result"
    }
   ],
   "source": [
    "Kolgomorov(cadari_cat_values)"
   ]
  },
  {
   "cell_type": "code",
   "execution_count": 90,
   "metadata": {},
   "outputs": [
    {
     "data": {
      "text/plain": [
       "-1.381106585180966"
      ]
     },
     "execution_count": 90,
     "metadata": {},
     "output_type": "execute_result"
    }
   ],
   "source": [
    "# usando definição de Fisher\n",
    "kurtosis(cadari_cat_values)"
   ]
  },
  {
   "cell_type": "code",
   "execution_count": 91,
   "metadata": {},
   "outputs": [
    {
     "data": {
      "text/plain": [
       "1.618893414819034"
      ]
     },
     "execution_count": 91,
     "metadata": {},
     "output_type": "execute_result"
    }
   ],
   "source": [
    "# usando definição de Pearson\n",
    "kurtosis(cadari_cat_values, fisher=False)"
   ]
  },
  {
   "cell_type": "code",
   "execution_count": 92,
   "metadata": {},
   "outputs": [
    {
     "data": {
      "text/plain": [
       "(0.9056280255317688, 0.32430094480514526)"
      ]
     },
     "execution_count": 92,
     "metadata": {},
     "output_type": "execute_result"
    }
   ],
   "source": [
    "shapiro(cadari_cat_values)"
   ]
  },
  {
   "cell_type": "code",
   "execution_count": 93,
   "metadata": {},
   "outputs": [
    {
     "data": {
      "text/plain": [
       "0.9056280255317688"
      ]
     },
     "execution_count": 93,
     "metadata": {},
     "output_type": "execute_result"
    }
   ],
   "source": [
    "shapiro((cadari_cat_values))[0]"
   ]
  },
  {
   "cell_type": "code",
   "execution_count": 94,
   "metadata": {},
   "outputs": [
    {
     "data": {
      "text/plain": [
       "-0.09998618869157293"
      ]
     },
     "execution_count": 94,
     "metadata": {},
     "output_type": "execute_result"
    }
   ],
   "source": [
    "skew(cadari_cat_values)\n"
   ]
  },
  {
   "cell_type": "code",
   "execution_count": 95,
   "metadata": {},
   "outputs": [
    {
     "data": {
      "text/plain": [
       "-0.09998618869157293"
      ]
     },
     "execution_count": 95,
     "metadata": {},
     "output_type": "execute_result"
    }
   ],
   "source": [
    "skew(cadari_cat_values)"
   ]
  },
  {
   "cell_type": "code",
   "execution_count": 96,
   "metadata": {},
   "outputs": [
    {
     "data": {
      "text/plain": [
       "1"
      ]
     },
     "execution_count": 96,
     "metadata": {},
     "output_type": "execute_result"
    }
   ],
   "source": [
    "Skewness(cadari_cat_values) "
   ]
  },
  {
   "cell_type": "code",
   "execution_count": 97,
   "metadata": {},
   "outputs": [
    {
     "data": {
      "text/plain": [
       "KstestResult(statistic=1.0, pvalue=0.0)"
      ]
     },
     "execution_count": 97,
     "metadata": {},
     "output_type": "execute_result"
    }
   ],
   "source": [
    "kstest(cadari_cat_values, 'norm')"
   ]
  },
  {
   "cell_type": "code",
   "execution_count": 98,
   "metadata": {},
   "outputs": [
    {
     "name": "stderr",
     "output_type": "stream",
     "text": [
      "/Users/raissa.costa.brizeno/anaconda3/lib/python3.6/site-packages/scipy/stats/stats.py:1390: UserWarning: kurtosistest only valid for n>=20 ... continuing anyway, n=8\n",
      "  \"anyway, n=%i\" % int(n))\n"
     ]
    },
    {
     "data": {
      "text/plain": [
       "KurtosistestResult(statistic=-1.1325990669312296, pvalue=0.2573826606661188)"
      ]
     },
     "execution_count": 98,
     "metadata": {},
     "output_type": "execute_result"
    }
   ],
   "source": [
    "kurtosistest(cadari_cat_values)"
   ]
  },
  {
   "cell_type": "code",
   "execution_count": 99,
   "metadata": {},
   "outputs": [
    {
     "data": {
      "text/plain": [
       "SkewtestResult(statistic=-0.16849783891521933, pvalue=0.8661916436615131)"
      ]
     },
     "execution_count": 99,
     "metadata": {},
     "output_type": "execute_result"
    }
   ],
   "source": [
    "skewtest(cadari_cat_values)"
   ]
  },
  {
   "cell_type": "code",
   "execution_count": 104,
   "metadata": {},
   "outputs": [],
   "source": [
    "import matplotlib.pyplot as plt"
   ]
  },
  {
   "cell_type": "code",
   "execution_count": 211,
   "metadata": {},
   "outputs": [],
   "source": [
    "#plt.hist(cadari_cat_values)\n",
    "\n",
    "#print(kstest(cadari_cat_values, 'norm'))"
   ]
  },
  {
   "cell_type": "code",
   "execution_count": 106,
   "metadata": {},
   "outputs": [
    {
     "data": {
      "text/plain": [
       "2.2465508100784524"
      ]
     },
     "execution_count": 106,
     "metadata": {},
     "output_type": "execute_result"
    }
   ],
   "source": [
    "np.random.normal()"
   ]
  },
  {
   "cell_type": "code",
   "execution_count": 212,
   "metadata": {},
   "outputs": [
    {
     "data": {
      "text/plain": [
       "\"\\nnp.random.seed(987654321)\\nx = stats.norm.rvs(loc=0.2, size=100)\\nplt.hist(cadari_cat_values, histtype='stepfilled')\\nkstest(cadari_agua_values,'norm')\\n\""
      ]
     },
     "execution_count": 212,
     "metadata": {},
     "output_type": "execute_result"
    }
   ],
   "source": [
    "'''\n",
    "np.random.seed(987654321)\n",
    "x = stats.norm.rvs(loc=0.2, size=100)\n",
    "plt.hist(cadari_cat_values, histtype='stepfilled')\n",
    "kstest(cadari_agua_values,'norm')\n",
    "'''"
   ]
  },
  {
   "cell_type": "code",
   "execution_count": 110,
   "metadata": {},
   "outputs": [],
   "source": [
    "matrix = np.array([[1,2],[3,4]])"
   ]
  },
  {
   "cell_type": "code",
   "execution_count": 111,
   "metadata": {},
   "outputs": [
    {
     "data": {
      "text/plain": [
       "array([[1, 2],\n",
       "       [3, 4]])"
      ]
     },
     "execution_count": 111,
     "metadata": {},
     "output_type": "execute_result"
    }
   ],
   "source": [
    "matrix"
   ]
  },
  {
   "cell_type": "code",
   "execution_count": 118,
   "metadata": {},
   "outputs": [
    {
     "data": {
      "text/plain": [
       "array([[1, 3],\n",
       "       [2, 4]])"
      ]
     },
     "execution_count": 118,
     "metadata": {},
     "output_type": "execute_result"
    }
   ],
   "source": [
    "matrix.T"
   ]
  },
  {
   "cell_type": "code",
   "execution_count": 121,
   "metadata": {},
   "outputs": [
    {
     "name": "stderr",
     "output_type": "stream",
     "text": [
      "/Users/raissa.costa.brizeno/anaconda3/lib/python3.6/site-packages/scipy/stats/stats.py:1390: UserWarning: kurtosistest only valid for n>=20 ... continuing anyway, n=8\n",
      "  \"anyway, n=%i\" % int(n))\n"
     ]
    },
    {
     "data": {
      "text/plain": [
       "KurtosistestResult(statistic=-1.1325990669312296, pvalue=0.2573826606661188)"
      ]
     },
     "execution_count": 121,
     "metadata": {},
     "output_type": "execute_result"
    }
   ],
   "source": [
    "kurtosistest(cadari_cat_values, axis=0)"
   ]
  },
  {
   "cell_type": "code",
   "execution_count": 132,
   "metadata": {},
   "outputs": [
    {
     "data": {
      "text/plain": [
       "False"
      ]
     },
     "execution_count": 132,
     "metadata": {},
     "output_type": "execute_result"
    }
   ],
   "source": [
    "kstest(cadari_cat_values, 'norm')[1] > "
   ]
  }
 ],
 "metadata": {
  "kernelspec": {
   "display_name": "Python 3",
   "language": "python",
   "name": "python3"
  },
  "language_info": {
   "codemirror_mode": {
    "name": "ipython",
    "version": 3
   },
   "file_extension": ".py",
   "mimetype": "text/x-python",
   "name": "python",
   "nbconvert_exporter": "python",
   "pygments_lexer": "ipython3",
   "version": "3.6.4"
  }
 },
 "nbformat": 4,
 "nbformat_minor": 2
}
