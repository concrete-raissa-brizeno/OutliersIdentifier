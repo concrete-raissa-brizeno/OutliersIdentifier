{
 "cells": [
  {
   "cell_type": "code",
   "execution_count": 3,
   "metadata": {},
   "outputs": [],
   "source": [
    "import pandas as pd\n",
    "import xlsxwriter as xls\n",
    "#import matplotlib.pyplot as plt\n",
    "#%matplotlib inline"
   ]
  },
  {
   "cell_type": "code",
   "execution_count": 4,
   "metadata": {},
   "outputs": [],
   "source": [
    "dfs = {\n",
    "    'CadariEngenharia': pd.read_csv('../DadosFonte/cadariengenhariaearquiteturalt0.csv', sep=',', encoding='ISO-8859-1'),\n",
    "    'CombogoComunicacao': pd.read_csv('../DadosFonte/combogocomunicacao.csv', sep=',', encoding='ISO-8859-1'),\n",
    "    'DegrauArquitetos': pd.read_csv('../DadosFonte/degrauarquitetosassociados.csv', sep=',', encoding='ISO-8859-1'),\n",
    "    'EduardoPepato': pd.read_csv('../DadosFonte/eduardopepato.csv', sep=',', encoding='ISO-8859-1'),\n",
    "    'Espeo': pd.read_csv('../DadosFonte/espeo.csv', sep=',', encoding='ISO-8859-1'),\n",
    "    'Fast': pd.read_csv('../DadosFonte/fast.csv', sep=',', encoding='ISO-8859-1'),\n",
    "    'Fisiotrauma': pd.read_csv('../DadosFonte/fisiotrauma.csv', sep=',', encoding='ISO-8859-1'),\n",
    "    'gestaoNaPratica': pd.read_csv('../DadosFonte/gestaonapratica.csv', sep=',', encoding='ISO-8859-1'),\n",
    "    'GrupoDamiam': pd.read_csv('../DadosFonte/grupodamiam.csv', sep=',', encoding='ISO-8859-1'),\n",
    "    'InovaEmpresaJunior': pd.read_csv('../DadosFonte/inovaempresajunior.csv', sep=',', encoding='ISO-8859-1'),\n",
    "    'LuzEmSolucoes': pd.read_csv('../DadosFonte/luzemssolucoesempresariais.csv', sep=',', encoding='ISO-8859-1'),\n",
    "    'MarteInovacaoCultural': pd.read_csv('../DadosFonte/marteinovacaocultural.csv', sep=',', encoding='ISO-8859-1'),\n",
    "    'Mekatronik': pd.read_csv('../DadosFonte/mekatronik.csv', sep=',', encoding='ISO-8859-1'),\n",
    "    'NorthStarshipping': pd.read_csv('../DadosFonte/northstarshippingservices.csv', sep=',', encoding='ISO-8859-1'),\n",
    "    'primusconsultoriaempresarial': pd.read_csv('../DadosFonte/primusconsultoriaempresarial.csv', sep=',', encoding='ISO-8859-1'),\n",
    "    'signo': pd.read_csv('../DadosFonte/signo.csv', sep=',', encoding='ISO-8859-1'),\n",
    "    'spazioarchidesign': pd.read_csv('../DadosFonte/spazioarchidesign.csv', sep=',', encoding='ISO-8859-1'),\n",
    "    'tectobrastelecomltda': pd.read_csv('../DadosFonte/tectobrastelecomltda.csv', sep=',', encoding='ISO-8859-1'),\n",
    "    'tkcconsulting': pd.read_csv('../DadosFonte/tkcconsulting.csv', sep=',', encoding='ISO-8859-1'),\n",
    "    'wodesign0': pd.read_csv('../DadosFonte/wodesign0.csv', sep=',', encoding='ISO-8859-1')}"
   ]
  },
  {
   "cell_type": "code",
   "execution_count": 5,
   "metadata": {},
   "outputs": [],
   "source": [
    "#dfs['Cadari'].head()"
   ]
  },
  {
   "cell_type": "markdown",
   "metadata": {},
   "source": [
    "### Manipulando planilhas"
   ]
  },
  {
   "cell_type": "code",
   "execution_count": 6,
   "metadata": {},
   "outputs": [],
   "source": [
    "worksheet = xls.Workbook('../AnaliseExploratoria/PlanilhaResultado.xlsx')\n",
    "aba_grupo1 = worksheet.add_worksheet('Grupo 1')\n",
    "aba_grupo2 = worksheet.add_worksheet('Grupo 2')\n",
    "aba_grupo3 = worksheet.add_worksheet('Grupo 3')\n",
    "\n",
    "bold = worksheet.add_format({'bold': 1})\n",
    "\n",
    "aba_grupo1.write('A1', 'Lançamentos de todas as empresas de 6 a 10', bold)\n",
    "aba_grupo1.write('B1', 'Quantidade de lançamentos', bold)\n",
    "\n",
    "aba_grupo2.write('A1', 'Lançamentos de todas as empresas de 11 a 20', bold)\n",
    "aba_grupo2.write('B1', 'Quantidade de lançamentos', bold)\n",
    "\n",
    "aba_grupo3.write('A1', 'Lançamentos de todas as empresas acima de 21', bold)\n",
    "aba_grupo3.write('B1', 'Quantidade de lançamentos', bold)\n",
    "\n",
    "num_linhas_1 = 2\n",
    "num_linhas_2 = 2\n",
    "num_linhas_3 = 2\n",
    "\n",
    "for key, df in dfs.items():\n",
    "    for categoria in df.Categoria.unique():\n",
    "        if((len(df[df.Categoria == categoria]) >= 6) and (len(df[df.Categoria == categoria]) <= 10)):\n",
    "            aba_grupo1.write('A' + str(num_linhas_1), categoria + ' - ' + key)\n",
    "            aba_grupo1.write('B' + str(num_linhas_1), len(df[df.Categoria == categoria]))\n",
    "            num_linhas_1 += 1\n",
    "        elif((len(df[df.Categoria == categoria]) >= 11) and (len(df[df.Categoria == categoria]) <= 20)):\n",
    "            aba_grupo2.write('A' + str(num_linhas_2), categoria + ' - ' + key)\n",
    "            aba_grupo2.write('B' + str(num_linhas_2), len(df[df.Categoria == categoria]))\n",
    "            num_linhas_2 += 1\n",
    "        elif((len(df[df.Categoria == categoria]) >= 21)):\n",
    "            aba_grupo3.write('A' + str(num_linhas_3), categoria + ' - ' + key)\n",
    "            aba_grupo3.write('B' + str(num_linhas_3), len(df[df.Categoria == categoria]))\n",
    "            num_linhas_3 += 1"
   ]
  },
  {
   "cell_type": "code",
   "execution_count": 7,
   "metadata": {},
   "outputs": [],
   "source": [
    "worksheet.close()"
   ]
  },
  {
   "cell_type": "code",
   "execution_count": 8,
   "metadata": {},
   "outputs": [],
   "source": [
    "#plt.rcParams['figure.figsize'] = (10,20)\n",
    "#plt.scatter(dfs['Cadari'].Value, dfs['Cadari'].Categoria)\n",
    "#plt.figure(figsize=(0.8,0.8))"
   ]
  },
  {
   "cell_type": "code",
   "execution_count": null,
   "metadata": {},
   "outputs": [],
   "source": []
  },
  {
   "cell_type": "code",
   "execution_count": null,
   "metadata": {},
   "outputs": [],
   "source": []
  }
 ],
 "metadata": {
  "kernelspec": {
   "display_name": "Python 3",
   "language": "python",
   "name": "python3"
  },
  "language_info": {
   "codemirror_mode": {
    "name": "ipython",
    "version": 3
   },
   "file_extension": ".py",
   "mimetype": "text/x-python",
   "name": "python",
   "nbconvert_exporter": "python",
   "pygments_lexer": "ipython3",
   "version": "3.6.4"
  }
 },
 "nbformat": 4,
 "nbformat_minor": 2
}
